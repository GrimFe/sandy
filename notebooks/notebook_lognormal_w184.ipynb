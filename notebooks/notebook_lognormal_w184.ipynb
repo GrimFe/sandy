{
 "cells": [
  {
   "cell_type": "markdown",
   "id": "ed95aad2",
   "metadata": {},
   "source": [
    "# Lognormal sampling for JEFF-3.3 W-184"
   ]
  },
  {
   "cell_type": "code",
   "execution_count": null,
   "id": "87998bf1",
   "metadata": {
    "execution": {
     "iopub.execute_input": "2024-09-26T11:22:13.124022Z",
     "iopub.status.busy": "2024-09-26T11:22:13.124022Z",
     "iopub.status.idle": "2024-09-26T11:22:14.569246Z",
     "shell.execute_reply": "2024-09-26T11:22:14.569246Z"
    }
   },
   "outputs": [],
   "source": [
    "import sandy"
   ]
  },
  {
   "cell_type": "code",
   "execution_count": null,
   "id": "91bbb756",
   "metadata": {
    "execution": {
     "iopub.execute_input": "2024-09-26T11:22:14.572763Z",
     "iopub.status.busy": "2024-09-26T11:22:14.572763Z",
     "iopub.status.idle": "2024-09-26T11:22:14.576589Z",
     "shell.execute_reply": "2024-09-26T11:22:14.576589Z"
    }
   },
   "outputs": [],
   "source": [
    "import pandas as pd"
   ]
  },
  {
   "cell_type": "code",
   "execution_count": null,
   "id": "a9223a63",
   "metadata": {
    "execution": {
     "iopub.execute_input": "2024-09-26T11:22:14.576589Z",
     "iopub.status.busy": "2024-09-26T11:22:14.576589Z",
     "iopub.status.idle": "2024-09-26T11:22:15.387078Z",
     "shell.execute_reply": "2024-09-26T11:22:15.387078Z"
    }
   },
   "outputs": [],
   "source": [
    "import numpy as np\n",
    "import seaborn as sns\n",
    "import matplotlib.pyplot as plt"
   ]
  },
  {
   "cell_type": "code",
   "execution_count": null,
   "id": "6f0705bd",
   "metadata": {
    "execution": {
     "iopub.execute_input": "2024-09-26T11:22:15.391062Z",
     "iopub.status.busy": "2024-09-26T11:22:15.390066Z",
     "iopub.status.idle": "2024-09-26T11:22:16.488227Z",
     "shell.execute_reply": "2024-09-26T11:22:16.488227Z"
    }
   },
   "outputs": [],
   "source": [
    "endf6 = sandy.get_endf6_file(\"jeff_33\", \"xs\", 741840)"
   ]
  },
  {
   "cell_type": "code",
   "execution_count": null,
   "id": "249570fb",
   "metadata": {
    "execution": {
     "iopub.execute_input": "2024-09-26T11:22:16.488227Z",
     "iopub.status.busy": "2024-09-26T11:22:16.488227Z",
     "iopub.status.idle": "2024-09-26T11:22:25.004997Z",
     "shell.execute_reply": "2024-09-26T11:22:25.004997Z"
    }
   },
   "outputs": [],
   "source": [
    "mts = [4] + list(range(51, 69)) + [91]\n",
    "cov = endf6.get_errorr(err=1, chi=False, errorr33_kws=dict(ign=13), mubar=False, verbose=True)[\"errorr33\"].get_cov()"
   ]
  },
  {
   "cell_type": "code",
   "execution_count": null,
   "id": "1671d26e",
   "metadata": {
    "execution": {
     "iopub.execute_input": "2024-09-26T11:22:25.004997Z",
     "iopub.status.busy": "2024-09-26T11:22:25.004997Z",
     "iopub.status.idle": "2024-09-26T11:22:25.724600Z",
     "shell.execute_reply": "2024-09-26T11:22:25.724600Z"
    }
   },
   "outputs": [],
   "source": [
    "s = cov.get_std().reset_index().query(\"MT in @mts\")\n",
    "s[\"ERIGHT\"] = [x.right for x in s.E]\n",
    "s[\"MT\"] = s[\"MT\"].astype(\"category\")\n",
    "s[\"STD\"] *= 100\n",
    "\n",
    "fig, ax = plt.subplots(figsize=(8, 4), dpi=100)\n",
    "sns.lineplot(data=s, x=\"ERIGHT\", y=\"STD\", ax=ax, hue=\"MT\", drawstyle=\"steps-pre\", palette=\"tab20\")\n",
    "ax.set(xlim=(1e5, 2e7), xscale=\"log\", ylim=[0, 200], ylabel=\"standard deviation / $\\%$\", xlabel=\"energy / $eV$\")\n",
    "ax.legend(ncol=2)\n",
    "fig.tight_layout()"
   ]
  },
  {
   "cell_type": "code",
   "execution_count": null,
   "id": "6b72bf61",
   "metadata": {
    "execution": {
     "iopub.execute_input": "2024-09-26T11:22:25.724600Z",
     "iopub.status.busy": "2024-09-26T11:22:25.724600Z",
     "iopub.status.idle": "2024-09-26T11:22:27.997821Z",
     "shell.execute_reply": "2024-09-26T11:22:27.997821Z"
    }
   },
   "outputs": [],
   "source": [
    "nsmp = 1000\n",
    "s_lognorm = cov.sampling(nsmp, pdf=\"lognormal\")\n",
    "s_norm = cov.sampling(nsmp, pdf=\"normal\")"
   ]
  },
  {
   "cell_type": "code",
   "execution_count": null,
   "id": "2625550e",
   "metadata": {
    "execution": {
     "iopub.execute_input": "2024-09-26T11:22:27.997821Z",
     "iopub.status.busy": "2024-09-26T11:22:27.997821Z",
     "iopub.status.idle": "2024-09-26T11:22:28.845019Z",
     "shell.execute_reply": "2024-09-26T11:22:28.845019Z"
    }
   },
   "outputs": [],
   "source": [
    "fig, ax = plt.subplots(figsize=(8, 4), dpi=100)\n",
    "\n",
    "s = s_lognorm.get_rstd().reset_index().query(\"MT in [4, 91]\")\n",
    "s[\"ERIGHT\"] = [x.right for x in s.E]\n",
    "s[\"MT\"] = s[\"MT\"].astype(\"category\")\n",
    "s[\"RSTD\"] *= 100\n",
    "s = s.assign(what=\"lognormal\")\n",
    "sln = s\n",
    "\n",
    "s = s_norm.get_rstd().reset_index().query(\"MT in [4, 91]\")\n",
    "s[\"ERIGHT\"] = [x.right for x in s.E]\n",
    "s[\"MT\"] = s[\"MT\"].astype(\"category\")\n",
    "s[\"RSTD\"] *= 100\n",
    "s = s.assign(what=\"normal\")\n",
    "sn = s\n",
    "\n",
    "s = cov.get_std().reset_index().query(\"MT in [4, 91]\")\n",
    "s[\"ERIGHT\"] = [x.right for x in s.E]\n",
    "s[\"MT\"] = s[\"MT\"].astype(\"category\")\n",
    "s[\"RSTD\"] = s[\"STD\"] * 100\n",
    "s = s.assign(what=\"reference\")\n",
    "\n",
    "s = pd.concat([sn, sln, s], ignore_index=True)\n",
    "\n",
    "sns.lineplot(data=s, x=\"ERIGHT\", y=\"RSTD\", ax=ax, hue=\"MT\", drawstyle=\"steps-pre\", palette=\"tab20\", ls=\"-\", style=\"what\")\n",
    "ax.set(xlim=(1e5, 2e7), xscale=\"log\", ylim=[0, 200], ylabel=\"standard deviation / $\\%$\", xlabel=\"energy / $eV$\")\n",
    "ax.legend(ncol=2)\n",
    "fig.tight_layout()"
   ]
  }
 ],
 "metadata": {
  "kernelspec": {
   "display_name": "Python [conda env:sandy-v1.0] *",
   "language": "python",
   "name": "conda-env-sandy-v1.0-py"
  },
  "language_info": {
   "codemirror_mode": {
    "name": "ipython",
    "version": 3
   },
   "file_extension": ".py",
   "mimetype": "text/x-python",
   "name": "python",
   "nbconvert_exporter": "python",
   "pygments_lexer": "ipython3",
   "version": "3.12.3"
  }
 },
 "nbformat": 4,
 "nbformat_minor": 5
}
