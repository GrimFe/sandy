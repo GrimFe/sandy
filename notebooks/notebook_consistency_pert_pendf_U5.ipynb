{
 "cells": [
  {
   "cell_type": "markdown",
   "id": "9f4930f2",
   "metadata": {},
   "source": [
    "# Consistency between PENDF/ENDF-6(nubar) and perturbations: U-235"
   ]
  },
  {
   "cell_type": "code",
   "execution_count": null,
   "id": "4b147f10",
   "metadata": {
    "execution": {
     "iopub.execute_input": "2024-09-26T11:17:30.206605Z",
     "iopub.status.busy": "2024-09-26T11:17:30.206605Z",
     "iopub.status.idle": "2024-09-26T11:17:32.203114Z",
     "shell.execute_reply": "2024-09-26T11:17:32.203114Z"
    }
   },
   "outputs": [],
   "source": [
    "import sandy\n",
    "import matplotlib.pyplot as plt\n",
    "import numpy as np"
   ]
  },
  {
   "cell_type": "code",
   "execution_count": null,
   "id": "06b2eaae",
   "metadata": {
    "execution": {
     "iopub.execute_input": "2024-09-26T11:17:32.203114Z",
     "iopub.status.busy": "2024-09-26T11:17:32.203114Z",
     "iopub.status.idle": "2024-09-26T11:17:33.332314Z",
     "shell.execute_reply": "2024-09-26T11:17:33.332314Z"
    }
   },
   "outputs": [],
   "source": [
    "endf6 = sandy.get_endf6_file(\"jeff_33\", \"xs\", 922350)"
   ]
  },
  {
   "cell_type": "code",
   "execution_count": null,
   "id": "0b96062a",
   "metadata": {
    "execution": {
     "iopub.execute_input": "2024-09-26T11:17:33.334425Z",
     "iopub.status.busy": "2024-09-26T11:17:33.334425Z",
     "iopub.status.idle": "2024-09-26T11:17:44.765441Z",
     "shell.execute_reply": "2024-09-26T11:17:44.765441Z"
    }
   },
   "outputs": [],
   "source": [
    "ign = 3  # ECCO 33 groups\n",
    "nsmp = 10\n",
    "smps = endf6.get_perturbations(\n",
    "    nsmp,\n",
    "    njoy_kws=dict(err=1, errorr33_kws=dict(ign=ign), errorr31_kws=dict(ign=ign)),\n",
    "    smp_kws=dict(seed31=31, seed33=33),\n",
    ")"
   ]
  },
  {
   "cell_type": "code",
   "execution_count": null,
   "id": "65b39758",
   "metadata": {
    "execution": {
     "iopub.execute_input": "2024-09-26T11:17:44.765441Z",
     "iopub.status.busy": "2024-09-26T11:17:44.765441Z",
     "iopub.status.idle": "2024-09-26T11:17:44.841714Z",
     "shell.execute_reply": "2024-09-26T11:17:44.841714Z"
    }
   },
   "outputs": [],
   "source": [
    "beg = end = i = np.random.randint(0, nsmp-1)\n",
    "file = \"PERT_92235_MF33.xlsx\"\n",
    "s33 = sandy.Samples.from_excel(file, beg=beg, end=end)\n",
    "file = \"PERT_92235_MF31.xlsx\"\n",
    "s31 = sandy.Samples.from_excel(file, beg=beg, end=end)\n",
    "smps = {33: s33, 31: s31}"
   ]
  },
  {
   "cell_type": "code",
   "execution_count": null,
   "id": "e99db412",
   "metadata": {
    "execution": {
     "iopub.execute_input": "2024-09-26T11:17:44.841714Z",
     "iopub.status.busy": "2024-09-26T11:17:44.841714Z",
     "iopub.status.idle": "2024-09-26T11:17:55.340596Z",
     "shell.execute_reply": "2024-09-26T11:17:55.340596Z"
    }
   },
   "outputs": [],
   "source": [
    "outs = endf6.apply_perturbations(smps=smps, njoy_kws=dict(err=1, minimal_processing=True), verbose=True)"
   ]
  },
  {
   "cell_type": "code",
   "execution_count": null,
   "id": "452620ed",
   "metadata": {
    "execution": {
     "iopub.execute_input": "2024-09-26T11:17:55.340596Z",
     "iopub.status.busy": "2024-09-26T11:17:55.340596Z",
     "iopub.status.idle": "2024-09-26T11:18:04.455795Z",
     "shell.execute_reply": "2024-09-26T11:18:04.454750Z"
    }
   },
   "outputs": [],
   "source": [
    "pendf = endf6.get_pendf(err=1)\n",
    "xs = sandy.Xs.from_endf6(pendf).data[9228]"
   ]
  },
  {
   "cell_type": "code",
   "execution_count": null,
   "id": "e0c6c294",
   "metadata": {
    "execution": {
     "iopub.execute_input": "2024-09-26T11:18:04.458151Z",
     "iopub.status.busy": "2024-09-26T11:18:04.458151Z",
     "iopub.status.idle": "2024-09-26T11:18:04.555335Z",
     "shell.execute_reply": "2024-09-26T11:18:04.554346Z"
    }
   },
   "outputs": [],
   "source": [
    "nu = sandy.Xs.from_endf6(endf6.filter_by(listmt=[452, 455, 456])).data[9228]"
   ]
  },
  {
   "cell_type": "code",
   "execution_count": null,
   "id": "7952d510",
   "metadata": {
    "execution": {
     "iopub.execute_input": "2024-09-26T11:18:04.560318Z",
     "iopub.status.busy": "2024-09-26T11:18:04.559321Z",
     "iopub.status.idle": "2024-09-26T11:18:05.142117Z",
     "shell.execute_reply": "2024-09-26T11:18:05.142117Z"
    }
   },
   "outputs": [],
   "source": [
    "nu_i = sandy.Xs.from_endf6(outs[i][\"endf6\"].filter_by(listmt=[452, 455, 456])).data[9228]\n",
    "ratio = nu_i / nu\n",
    "mt = 452\n",
    "mtp = 456\n",
    "\n",
    "s = smps[31].data.loc[(9228, mtp)]\n",
    "s1 = s.copy()\n",
    "s1.index = [x.right for x in s.index]\n",
    "s2 = s.copy()\n",
    "s2.index = [x.left for x in s.index]\n",
    "\n",
    "fig, ax = plt.subplots(figsize=(8, 4), dpi=100)\n",
    "ax2 = ax.twinx()\n",
    "\n",
    "ax.axhline(1, color=\"gray\")\n",
    "ratio[mt].plot(logx=True, marker=\"x\", ms=5, ls=\"--\", color=\"k\", lw=.5, ax=ax, label=f\"MT{mt} ENDF6 ratio\")\n",
    "s1.squeeze().plot(drawstyle=\"steps-pre\", color=\"dodgerblue\", ax=ax, label=f\"MT{mtp} perturbation\")\n",
    "s2.squeeze().plot(drawstyle=\"steps-post\", color=\"dodgerblue\", ax=ax, label=\"\")\n",
    "ax.legend(loc=2)\n",
    "\n",
    "nu[mt].plot(ax=ax2, color=\"tomato\", ls=\"-\",  lw=.5, alpha=.5, label=f\"MT{mt} ENDF6\")\n",
    "ax2.legend(loc=3)\n",
    "\n",
    "fig.tight_layout()"
   ]
  },
  {
   "cell_type": "code",
   "execution_count": null,
   "id": "5fb044ce",
   "metadata": {
    "execution": {
     "iopub.execute_input": "2024-09-26T11:18:05.143220Z",
     "iopub.status.busy": "2024-09-26T11:18:05.143220Z",
     "iopub.status.idle": "2024-09-26T11:18:05.501037Z",
     "shell.execute_reply": "2024-09-26T11:18:05.501037Z"
    }
   },
   "outputs": [],
   "source": [
    "nu_i = sandy.Xs.from_endf6(outs[i][\"endf6\"].filter_by(listmt=[452, 455, 456])).data[9228]\n",
    "ratio = nu_i / nu\n",
    "mt = 455\n",
    "\n",
    "s = smps[31].data.loc[(9228, mtp)]\n",
    "s1 = s.copy()\n",
    "s1.index = [x.right for x in s.index]\n",
    "s2 = s.copy()\n",
    "s2.index = [x.left for x in s.index]\n",
    "\n",
    "fig, ax = plt.subplots(figsize=(8, 4), dpi=100)\n",
    "ax2 = ax.twinx()\n",
    "\n",
    "ax.axhline(1, color=\"gray\")\n",
    "ratio[mt].plot(logx=True, marker=\"x\", ms=5, ls=\"--\", color=\"k\", lw=.5, ax=ax, label=f\"MT{mt} ENDF6 ratio\")\n",
    "ax.legend(loc=2)\n",
    "ax.set(ylim=(0.99, 1.01))\n",
    "\n",
    "nu[mt].plot(ax=ax2, color=\"tomato\", ls=\"-\",  lw=.5, alpha=.5, label=f\"MT{mt} ENDF6\")\n",
    "ax2.legend(loc=3)\n",
    "\n",
    "fig.tight_layout()"
   ]
  },
  {
   "cell_type": "code",
   "execution_count": null,
   "id": "74bdfa3a",
   "metadata": {
    "execution": {
     "iopub.execute_input": "2024-09-26T11:18:05.501037Z",
     "iopub.status.busy": "2024-09-26T11:18:05.501037Z",
     "iopub.status.idle": "2024-09-26T11:18:05.880716Z",
     "shell.execute_reply": "2024-09-26T11:18:05.880716Z"
    }
   },
   "outputs": [],
   "source": [
    "nu_i = sandy.Xs.from_endf6(outs[i][\"endf6\"].filter_by(listmt=[452, 455, 456])).data[9228]\n",
    "ratio = nu_i / nu\n",
    "mt = 456\n",
    "mtp = 456\n",
    "\n",
    "s = smps[31].data.loc[(9228, mtp)]\n",
    "s1 = s.copy()\n",
    "s1.index = [x.right for x in s.index]\n",
    "s2 = s.copy()\n",
    "s2.index = [x.left for x in s.index]\n",
    "\n",
    "fig, ax = plt.subplots(figsize=(8, 4), dpi=100)\n",
    "ax2 = ax.twinx()\n",
    "\n",
    "ax.axhline(1, color=\"gray\")\n",
    "ratio[mt].plot(logx=True, marker=\"x\", ms=5, ls=\"--\", color=\"k\", lw=.5, ax=ax, label=f\"MT{mt} ENDF6 ratio\")\n",
    "s1.squeeze().plot(drawstyle=\"steps-pre\", color=\"dodgerblue\", ax=ax, label=f\"MT{mtp} perturbation\")\n",
    "s2.squeeze().plot(drawstyle=\"steps-post\", color=\"dodgerblue\", ax=ax, label=\"\")\n",
    "ax.legend(loc=2)\n",
    "\n",
    "nu[mt].plot(ax=ax2, color=\"tomato\", ls=\"-\",  lw=.5, alpha=.5, label=f\"MT{mt} ENDF6\")\n",
    "ax2.legend(loc=3)\n",
    "\n",
    "fig.tight_layout()"
   ]
  },
  {
   "cell_type": "code",
   "execution_count": null,
   "id": "842ec54c",
   "metadata": {
    "execution": {
     "iopub.execute_input": "2024-09-26T11:18:05.880716Z",
     "iopub.status.busy": "2024-09-26T11:18:05.880716Z",
     "iopub.status.idle": "2024-09-26T11:18:07.889926Z",
     "shell.execute_reply": "2024-09-26T11:18:07.889926Z"
    }
   },
   "outputs": [],
   "source": [
    "xs_i = sandy.Xs.from_endf6(outs[i][\"pendf\"]).data[9228]\n",
    "ratio = xs_i / xs\n",
    "mt = 1\n",
    "mtp = 1\n",
    "\n",
    "s = smps[33].data.loc[(9228, mtp)]\n",
    "s1 = s.copy()\n",
    "s1.index = [x.right for x in s.index]\n",
    "s2 = s.copy()\n",
    "s2.index = [x.left for x in s.index]\n",
    "\n",
    "fig, ax = plt.subplots(figsize=(8, 4), dpi=100)\n",
    "ax2 = ax.twinx()\n",
    "\n",
    "ax.axhline(1, color=\"gray\")\n",
    "ratio[mt].plot(logx=True, marker=\"x\", ms=5, ls=\"--\", color=\"k\", lw=.5, ax=ax, label=f\"MT{mt} PENDF ratio\")\n",
    "s1.squeeze().plot(drawstyle=\"steps-pre\", color=\"dodgerblue\", ax=ax, label=f\"MT{mtp} perturbation\")\n",
    "s2.squeeze().plot(drawstyle=\"steps-post\", color=\"dodgerblue\", ax=ax, label=\"\")\n",
    "ax.legend(loc=2)\n",
    "\n",
    "xs[mt].plot(ax=ax2, logy=True, color=\"tomato\", ls=\"-\",  lw=.5, alpha=.5, label=f\"MT{mt} PENDF\")\n",
    "ax2.legend(loc=3)\n",
    "\n",
    "fig.tight_layout()"
   ]
  },
  {
   "cell_type": "code",
   "execution_count": null,
   "id": "569391bf",
   "metadata": {
    "execution": {
     "iopub.execute_input": "2024-09-26T11:18:07.894539Z",
     "iopub.status.busy": "2024-09-26T11:18:07.894539Z",
     "iopub.status.idle": "2024-09-26T11:18:09.978981Z",
     "shell.execute_reply": "2024-09-26T11:18:09.978981Z"
    }
   },
   "outputs": [],
   "source": [
    "xs_i = sandy.Xs.from_endf6(outs[i][\"pendf\"]).data[9228]\n",
    "ratio = xs_i / xs\n",
    "mt = 2\n",
    "mtp = 2\n",
    "\n",
    "s = smps[33].data.loc[(9228, mtp)]\n",
    "s1 = s.copy()\n",
    "s1.index = [x.right for x in s.index]\n",
    "s2 = s.copy()\n",
    "s2.index = [x.left for x in s.index]\n",
    "\n",
    "fig, ax = plt.subplots(figsize=(8, 4), dpi=100)\n",
    "ax2 = ax.twinx()\n",
    "\n",
    "ax.axhline(1, color=\"gray\")\n",
    "ratio[mt].plot(logx=True, marker=\"x\", ms=5, ls=\"--\", color=\"k\", lw=.5, ax=ax, label=f\"MT{mt} PENDF ratio\")\n",
    "s1.squeeze().plot(drawstyle=\"steps-pre\", color=\"dodgerblue\", ax=ax, label=f\"MT{mtp} perturbation\")\n",
    "s2.squeeze().plot(drawstyle=\"steps-post\", color=\"dodgerblue\", ax=ax, label=\"\")\n",
    "ax.legend(loc=2)\n",
    "\n",
    "xs[mt].plot(ax=ax2, logy=True, color=\"tomato\", ls=\"-\",  lw=.5, alpha=.5, label=f\"MT{mt} PENDF\")\n",
    "ax2.legend(loc=3)\n",
    "\n",
    "fig.tight_layout()"
   ]
  },
  {
   "cell_type": "code",
   "execution_count": null,
   "id": "b346d54d",
   "metadata": {
    "execution": {
     "iopub.execute_input": "2024-09-26T11:18:09.982055Z",
     "iopub.status.busy": "2024-09-26T11:18:09.982055Z",
     "iopub.status.idle": "2024-09-26T11:18:12.099484Z",
     "shell.execute_reply": "2024-09-26T11:18:12.099484Z"
    }
   },
   "outputs": [],
   "source": [
    "xs_i = sandy.Xs.from_endf6(outs[i][\"pendf\"]).data[9228]\n",
    "ratio = xs_i / xs\n",
    "mt = 4\n",
    "mtp = 4\n",
    "\n",
    "s = smps[33].data.loc[(9228, mtp)]\n",
    "s1 = s.copy()\n",
    "s1.index = [x.right for x in s.index]\n",
    "s2 = s.copy()\n",
    "s2.index = [x.left for x in s.index]\n",
    "\n",
    "fig, ax = plt.subplots(figsize=(8, 4), dpi=100)\n",
    "ax2 = ax.twinx()\n",
    "\n",
    "ax.axhline(1, color=\"gray\")\n",
    "ratio[mt].plot(logx=True, marker=\"x\", ms=5, ls=\"--\", color=\"k\", lw=.5, ax=ax, label=f\"MT{mt} PENDF ratio\")\n",
    "s1.squeeze().plot(drawstyle=\"steps-pre\", color=\"dodgerblue\", ax=ax, label=f\"MT{mtp} perturbation\")\n",
    "s2.squeeze().plot(drawstyle=\"steps-post\", color=\"dodgerblue\", ax=ax, label=\"\")\n",
    "ax.legend(loc=2)\n",
    "\n",
    "xs[mt].plot(ax=ax2, logy=True, color=\"tomato\", ls=\"-\",  lw=.5, alpha=.5, label=f\"MT{mt} PENDF\")\n",
    "ax2.legend(loc=3)\n",
    "\n",
    "fig.tight_layout()"
   ]
  },
  {
   "cell_type": "code",
   "execution_count": null,
   "id": "c7e7d582",
   "metadata": {
    "execution": {
     "iopub.execute_input": "2024-09-26T11:18:12.101093Z",
     "iopub.status.busy": "2024-09-26T11:18:12.101093Z",
     "iopub.status.idle": "2024-09-26T11:18:14.207350Z",
     "shell.execute_reply": "2024-09-26T11:18:14.207350Z"
    }
   },
   "outputs": [],
   "source": [
    "xs_i = sandy.Xs.from_endf6(outs[i][\"pendf\"]).data[9228]\n",
    "ratio = xs_i / xs\n",
    "mt = 16\n",
    "mtp = 16\n",
    "\n",
    "s = smps[33].data.loc[(9228, mtp)]\n",
    "s1 = s.copy()\n",
    "s1.index = [x.right for x in s.index]\n",
    "s2 = s.copy()\n",
    "s2.index = [x.left for x in s.index]\n",
    "\n",
    "fig, ax = plt.subplots(figsize=(8, 4), dpi=100)\n",
    "ax2 = ax.twinx()\n",
    "\n",
    "ax.axhline(1, color=\"gray\")\n",
    "ratio[mt].plot(marker=\"x\", ms=5, ls=\"--\", color=\"k\", lw=.5, ax=ax, label=f\"MT{mt} PENDF ratio\")\n",
    "s1.squeeze().plot(drawstyle=\"steps-pre\", color=\"dodgerblue\", ax=ax, label=f\"MT{mtp} perturbation\")\n",
    "s2.squeeze().plot(drawstyle=\"steps-post\", color=\"dodgerblue\", ax=ax, label=\"\")\n",
    "ax.legend(loc=2)\n",
    "\n",
    "xs[mt].plot(ax=ax2, logy=True, color=\"tomato\", ls=\"-\",  lw=.5, alpha=.5, label=f\"MT{mt} PENDF\")\n",
    "ax2.legend(loc=3)\n",
    "\n",
    "fig.tight_layout()"
   ]
  },
  {
   "cell_type": "code",
   "execution_count": null,
   "id": "bbb91512",
   "metadata": {
    "execution": {
     "iopub.execute_input": "2024-09-26T11:18:14.211519Z",
     "iopub.status.busy": "2024-09-26T11:18:14.211519Z",
     "iopub.status.idle": "2024-09-26T11:18:16.605173Z",
     "shell.execute_reply": "2024-09-26T11:18:16.605173Z"
    }
   },
   "outputs": [],
   "source": [
    "xs_i = sandy.Xs.from_endf6(outs[i][\"pendf\"]).data[9228]\n",
    "ratio = xs_i / xs\n",
    "mt = 5\n",
    "\n",
    "fig, ax = plt.subplots(figsize=(8, 4), dpi=100)\n",
    "ax2 = ax.twinx()\n",
    "\n",
    "ax.axhline(1, color=\"gray\")\n",
    "ratio[mt].plot(logx=True, marker=\"x\", ms=5, ls=\"--\", color=\"k\", lw=.5, ax=ax, label=f\"MT{mt} PENDF ratio\")\n",
    "ax.legend(loc=2)\n",
    "\n",
    "xs[mt].plot(ax=ax2, logy=True, color=\"tomato\", ls=\"-\",  lw=.5, alpha=.5, label=f\"MT{mt} PENDF\")\n",
    "ax2.legend(loc=3)\n",
    "\n",
    "fig.tight_layout()"
   ]
  },
  {
   "cell_type": "code",
   "execution_count": null,
   "id": "f87ffd03",
   "metadata": {
    "execution": {
     "iopub.execute_input": "2024-09-26T11:18:16.608704Z",
     "iopub.status.busy": "2024-09-26T11:18:16.608704Z",
     "iopub.status.idle": "2024-09-26T11:18:19.243491Z",
     "shell.execute_reply": "2024-09-26T11:18:19.243491Z"
    }
   },
   "outputs": [],
   "source": [
    "xs_i = sandy.Xs.from_endf6(outs[i][\"pendf\"]).data[9228]\n",
    "ratio = xs_i / xs\n",
    "mt = 18\n",
    "mtp = 18\n",
    "\n",
    "s = smps[33].data.loc[(9228, mtp)]\n",
    "s1 = s.copy()\n",
    "s1.index = [x.right for x in s.index]\n",
    "s2 = s.copy()\n",
    "s2.index = [x.left for x in s.index]\n",
    "\n",
    "fig, ax = plt.subplots(figsize=(8, 4), dpi=100)\n",
    "ax2 = ax.twinx()\n",
    "\n",
    "ax.axhline(1, color=\"gray\")\n",
    "ratio[mt].plot(logx=True, marker=\"x\", ms=5, ls=\"--\", color=\"k\", lw=.5, ax=ax, label=f\"MT{mt} PENDF ratio\")\n",
    "s1.squeeze().plot(drawstyle=\"steps-pre\", color=\"dodgerblue\", ax=ax, label=f\"MT{mtp} perturbation\")\n",
    "s2.squeeze().plot(drawstyle=\"steps-post\", color=\"dodgerblue\", ax=ax, label=\"\")\n",
    "ax.legend(loc=2)\n",
    "\n",
    "xs[mt].plot(ax=ax2, logy=True, color=\"tomato\", ls=\"-\",  lw=.5, alpha=.5, label=f\"MT{mt} PENDF\")\n",
    "ax2.legend(loc=3)\n",
    "\n",
    "fig.tight_layout()"
   ]
  },
  {
   "cell_type": "code",
   "execution_count": null,
   "id": "608298b4",
   "metadata": {
    "execution": {
     "iopub.execute_input": "2024-09-26T11:18:19.248531Z",
     "iopub.status.busy": "2024-09-26T11:18:19.248531Z",
     "iopub.status.idle": "2024-09-26T11:18:26.103660Z",
     "shell.execute_reply": "2024-09-26T11:18:26.102600Z"
    }
   },
   "outputs": [],
   "source": [
    "xs_i = sandy.Xs.from_endf6(outs[i][\"pendf\"]).data[9228]\n",
    "ratio = xs_i / xs\n",
    "for mt in [22, 24, 25, 28, 37, 41, 42]:\n",
    "    fig, ax = plt.subplots(figsize=(8, 4), dpi=100)\n",
    "    ax2 = ax.twinx()\n",
    "\n",
    "    ax.axhline(1, color=\"gray\")\n",
    "    ratio[mt].plot(logx=True, marker=\"x\", ms=5, ls=\"--\", color=\"k\", lw=.5, ax=ax, label=f\"MT{mt} PENDF ratio\")\n",
    "    ax.legend(loc=2)\n",
    "\n",
    "    xs[mt].plot(ax=ax2, logy=True, color=\"tomato\", ls=\"-\",  lw=.5, alpha=.5, label=f\"MT{mt} PENDF\")\n",
    "    ax2.legend(loc=3)\n",
    "\n",
    "    fig.tight_layout()"
   ]
  },
  {
   "cell_type": "code",
   "execution_count": null,
   "id": "1997ff0d",
   "metadata": {
    "execution": {
     "iopub.execute_input": "2024-09-26T11:18:26.103660Z",
     "iopub.status.busy": "2024-09-26T11:18:26.103660Z",
     "iopub.status.idle": "2024-09-26T11:18:28.454511Z",
     "shell.execute_reply": "2024-09-26T11:18:28.454511Z"
    }
   },
   "outputs": [],
   "source": [
    "xs_i = sandy.Xs.from_endf6(outs[i][\"pendf\"]).data[9228]\n",
    "ratio = xs_i / xs\n",
    "mt = 24\n",
    "\n",
    "fig, ax = plt.subplots(figsize=(8, 4), dpi=100)\n",
    "ax2 = ax.twinx()\n",
    "\n",
    "ax.axhline(1, color=\"gray\")\n",
    "ratio[mt].plot(logx=True, marker=\"x\", ms=5, ls=\"--\", color=\"k\", lw=.5, ax=ax, label=f\"MT{mt} PENDF ratio\")\n",
    "ax.legend(loc=2)\n",
    "\n",
    "xs[mt].plot(ax=ax2, logy=True, color=\"tomato\", ls=\"-\",  lw=.5, alpha=.5, label=f\"MT{mt} PENDF\")\n",
    "ax2.legend(loc=3)\n",
    "\n",
    "fig.tight_layout()"
   ]
  },
  {
   "cell_type": "code",
   "execution_count": null,
   "id": "ef01ae82",
   "metadata": {
    "execution": {
     "iopub.execute_input": "2024-09-26T11:18:28.454511Z",
     "iopub.status.busy": "2024-09-26T11:18:28.454511Z",
     "iopub.status.idle": "2024-09-26T11:18:31.412597Z",
     "shell.execute_reply": "2024-09-26T11:18:31.412597Z"
    }
   },
   "outputs": [],
   "source": [
    "xs_i = sandy.Xs.from_endf6(outs[i][\"pendf\"]).data[9228]\n",
    "ratio = xs_i / xs\n",
    "mt = 25\n",
    "\n",
    "fig, ax = plt.subplots(figsize=(8, 4), dpi=100)\n",
    "ax2 = ax.twinx()\n",
    "\n",
    "ax.axhline(1, color=\"gray\")\n",
    "ratio[mt].plot(logx=True, marker=\"x\", ms=5, ls=\"--\", color=\"k\", lw=.5, ax=ax, label=f\"MT{mt} PENDF ratio\")\n",
    "ax.legend(loc=2)\n",
    "\n",
    "xs[mt].plot(ax=ax2, logy=True, color=\"tomato\", ls=\"-\",  lw=.5, alpha=.5, label=f\"MT{mt} PENDF\")\n",
    "ax2.legend(loc=3)\n",
    "\n",
    "fig.tight_layout()"
   ]
  },
  {
   "cell_type": "code",
   "execution_count": null,
   "id": "d1605a34",
   "metadata": {
    "execution": {
     "iopub.execute_input": "2024-09-26T11:18:31.418691Z",
     "iopub.status.busy": "2024-09-26T11:18:31.418691Z",
     "iopub.status.idle": "2024-09-26T11:18:37.087722Z",
     "shell.execute_reply": "2024-09-26T11:18:37.087722Z"
    }
   },
   "outputs": [],
   "source": [
    "xs_i = sandy.Xs.from_endf6(outs[i][\"pendf\"]).data[9228]\n",
    "ratio = xs_i / xs\n",
    "for mt in list(range(51, 55)) + [91]:\n",
    "    mtp = 4\n",
    "\n",
    "    s = smps[33].data.loc[(9228, mtp)]\n",
    "    s1 = s.copy()\n",
    "    s1.index = [x.right for x in s.index]\n",
    "    s2 = s.copy()\n",
    "    s2.index = [x.left for x in s.index]\n",
    "\n",
    "    fig, ax = plt.subplots(figsize=(8, 4), dpi=100)\n",
    "    ax2 = ax.twinx()\n",
    "\n",
    "    ax.axhline(1, color=\"gray\")\n",
    "    ratio[mt].plot(logx=True, marker=\"x\", ms=5, ls=\"--\", color=\"k\", lw=.5, ax=ax, label=f\"MT{mt} PENDF ratio\")\n",
    "    s1.squeeze().plot(drawstyle=\"steps-pre\", color=\"dodgerblue\", ax=ax, label=f\"MT{mtp} perturbation\")\n",
    "    s2.squeeze().plot(drawstyle=\"steps-post\", color=\"dodgerblue\", ax=ax, label=\"\")\n",
    "    ax.legend(loc=2)\n",
    "\n",
    "    xs[mt].plot(ax=ax2, logy=True, color=\"tomato\", ls=\"-\",  lw=.5, alpha=.5, label=f\"MT{mt} PENDF\")\n",
    "    ax2.legend(loc=3)\n",
    "\n",
    "    fig.tight_layout()"
   ]
  },
  {
   "cell_type": "code",
   "execution_count": null,
   "id": "7a48b0b0",
   "metadata": {
    "execution": {
     "iopub.execute_input": "2024-09-26T11:18:37.089789Z",
     "iopub.status.busy": "2024-09-26T11:18:37.089789Z",
     "iopub.status.idle": "2024-09-26T11:18:39.494220Z",
     "shell.execute_reply": "2024-09-26T11:18:39.494220Z"
    }
   },
   "outputs": [],
   "source": [
    "xs_i = sandy.Xs.from_endf6(outs[i][\"pendf\"]).data[9228]\n",
    "ratio = xs_i / xs\n",
    "mt = 102\n",
    "mtp = 102\n",
    "\n",
    "s = smps[33].data.loc[(9228, mtp)]\n",
    "s1 = s.copy()\n",
    "s1.index = [x.right for x in s.index]\n",
    "s2 = s.copy()\n",
    "s2.index = [x.left for x in s.index]\n",
    "\n",
    "fig, ax = plt.subplots(figsize=(8, 4), dpi=100)\n",
    "ax2 = ax.twinx()\n",
    "\n",
    "ax.axhline(1, color=\"gray\")\n",
    "ratio[mt].plot(logx=True, marker=\"x\", ms=5, ls=\"--\", color=\"k\", lw=.5, ax=ax, label=f\"MT{mt} PENDF ratio\")\n",
    "s1.squeeze().plot(drawstyle=\"steps-pre\", color=\"dodgerblue\", ax=ax, label=f\"MT{mtp} perturbation\")\n",
    "s2.squeeze().plot(drawstyle=\"steps-post\", color=\"dodgerblue\", ax=ax, label=\"\")\n",
    "ax.legend(loc=2)\n",
    "\n",
    "xs[mt].plot(ax=ax2, logy=True, color=\"tomato\", ls=\"-\",  lw=.5, alpha=.5, label=f\"MT{mt} PENDF\")\n",
    "ax2.legend(loc=3)\n",
    "\n",
    "fig.tight_layout()"
   ]
  },
  {
   "cell_type": "code",
   "execution_count": null,
   "id": "eb9cc19e",
   "metadata": {
    "execution": {
     "iopub.execute_input": "2024-09-26T11:18:39.494220Z",
     "iopub.status.busy": "2024-09-26T11:18:39.494220Z",
     "iopub.status.idle": "2024-09-26T11:18:42.088502Z",
     "shell.execute_reply": "2024-09-26T11:18:42.088502Z"
    }
   },
   "outputs": [],
   "source": [
    "xs_i = sandy.Xs.from_endf6(outs[i][\"pendf\"]).data[9228]\n",
    "ratio = xs_i / xs\n",
    "mt = 103\n",
    "\n",
    "fig, ax = plt.subplots(figsize=(8, 4), dpi=100)\n",
    "ax2 = ax.twinx()\n",
    "\n",
    "ax.axhline(1, color=\"gray\")\n",
    "ratio[mt].plot(logx=True, marker=\"x\", ms=5, ls=\"--\", color=\"k\", lw=.5, ax=ax, label=f\"MT{mt} PENDF ratio\")\n",
    "ax.legend(loc=2)\n",
    "\n",
    "xs[mt].plot(ax=ax2, logy=True, color=\"tomato\", ls=\"-\",  lw=.5, alpha=.5, label=f\"MT{mt} PENDF\")\n",
    "ax2.legend(loc=3)\n",
    "\n",
    "fig.tight_layout()"
   ]
  },
  {
   "cell_type": "code",
   "execution_count": null,
   "id": "679bd6e4",
   "metadata": {
    "execution": {
     "iopub.execute_input": "2024-09-26T11:18:42.092558Z",
     "iopub.status.busy": "2024-09-26T11:18:42.092558Z",
     "iopub.status.idle": "2024-09-26T11:18:44.261424Z",
     "shell.execute_reply": "2024-09-26T11:18:44.260363Z"
    }
   },
   "outputs": [],
   "source": [
    "xs_i = sandy.Xs.from_endf6(outs[i][\"pendf\"]).data[9228]\n",
    "ratio = xs_i / xs\n",
    "mt = 107\n",
    "\n",
    "fig, ax = plt.subplots(figsize=(8, 4), dpi=100)\n",
    "ax2 = ax.twinx()\n",
    "\n",
    "ax.axhline(1, color=\"gray\")\n",
    "ratio[mt].plot(logx=True, marker=\"x\", ms=5, ls=\"--\", color=\"k\", lw=.5, ax=ax, label=f\"MT{mt} PENDF ratio\")\n",
    "ax.legend(loc=2)\n",
    "\n",
    "xs[mt].plot(ax=ax2, logy=True, color=\"tomato\", ls=\"-\",  lw=.5, alpha=.5, label=f\"MT{mt} PENDF\")\n",
    "ax2.legend(loc=3)\n",
    "\n",
    "fig.tight_layout()"
   ]
  }
 ],
 "metadata": {
  "kernelspec": {
   "display_name": "Python [conda env:sandy-v1.0] *",
   "language": "python",
   "name": "conda-env-sandy-v1.0-py"
  },
  "language_info": {
   "codemirror_mode": {
    "name": "ipython",
    "version": 3
   },
   "file_extension": ".py",
   "mimetype": "text/x-python",
   "name": "python",
   "nbconvert_exporter": "python",
   "pygments_lexer": "ipython3",
   "version": "3.12.3"
  }
 },
 "nbformat": 4,
 "nbformat_minor": 5
}
