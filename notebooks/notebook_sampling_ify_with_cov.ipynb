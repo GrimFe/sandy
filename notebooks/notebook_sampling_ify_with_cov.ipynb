{
 "cells": [
  {
   "cell_type": "markdown",
   "id": "2e8a7f97-24b4-455e-b768-57cdee820012",
   "metadata": {},
   "source": [
    "# Create perturbed FY files with ad-hoc covariance matrix (all energies)"
   ]
  },
  {
   "cell_type": "markdown",
   "id": "0d8161e9-50c6-4ef3-ac54-01f296e41f7f",
   "metadata": {},
   "source": [
    "This notebook follows the procedure to generate ad-hoc covariance matrices for independent fission yields from chain yield evaluations, as described in:\n",
    "- [Fiorito et al., Generation of fission yield covariances to correct discrepancies in the nuclear data libraries, Annals of Nuclear Energy, Vol. 88, 2016](https://doi.org/10.1016/j.anucene.2015.10.027)\n",
    "- [Fission yield covariance generation and uncertainty propagation through fission pulse decay heat calculation, Annals of Nuclear Energy, Vol. 69, 2014](https://doi.org/10.1016/j.anucene.2014.01.038)"
   ]
  },
  {
   "cell_type": "code",
   "execution_count": null,
   "id": "06dad8ae-478b-44fe-a0cc-8cd37bd4acc3",
   "metadata": {},
   "outputs": [],
   "source": [
    "import sandy\n",
    "import pandas as pd\n",
    "from os.path import join\n",
    "import numpy as np\n",
    "import random, sys\n",
    "import matplotlib.pyplot as plt\n",
    "import seaborn as sns"
   ]
  },
  {
   "cell_type": "markdown",
   "id": "db66e7a6-e7a9-46a2-abea-6cfc699122b3",
   "metadata": {},
   "source": [
    "## Extract FYs and covariance data for U235 fission"
   ]
  },
  {
   "cell_type": "code",
   "execution_count": null,
   "id": "3096afe7-8921-4dfe-94b4-1e3443954424",
   "metadata": {},
   "outputs": [],
   "source": [
    "za = 92235\n",
    "tape = sandy.get_endf6_file(\"jeff_33\", \"nfpy\", za * 10)\n",
    "fy = sandy.Fy.from_endf6(tape)"
   ]
  },
  {
   "cell_type": "code",
   "execution_count": null,
   "id": "133e6d50-19b1-41bf-99a0-36d22e21e392",
   "metadata": {},
   "outputs": [],
   "source": [
    "energies = fy.data.E.unique()"
   ]
  },
  {
   "cell_type": "markdown",
   "id": "891967d7-eb66-424f-a8a4-14f625f133cf",
   "metadata": {},
   "source": [
    "## Generate perturbation coefficients for all energies and write them to file"
   ]
  },
  {
   "cell_type": "markdown",
   "id": "c47c053d-6022-4cf2-a9c9-d347adc3a9dd",
   "metadata": {},
   "source": [
    "Use normalization to chain yields as a constraint to create a covariance matrix. "
   ]
  },
  {
   "cell_type": "code",
   "execution_count": null,
   "id": "be23c97c-a32d-4343-b152-8adbe98beed5",
   "metadata": {},
   "outputs": [],
   "source": [
    "tape_rdd = sandy.get_endf6_file(\"jeff_33\", \"decay\", \"all\")\n",
    "rdd = sandy.DecayData.from_endf6(tape_rdd)  # this can take a while"
   ]
  },
  {
   "cell_type": "code",
   "execution_count": null,
   "id": "31935394-ef64-4a24-a4d0-9051a09755e1",
   "metadata": {},
   "outputs": [],
   "source": [
    "sensitivity = rdd.get_chain_yield_sensitivity()\n",
    "chfy = sandy.fy.get_chain_yields()\n",
    "set([(row.ZAM, row.E) for i, row in chfy.iterrows()])"
   ]
  },
  {
   "cell_type": "markdown",
   "id": "628a6721-634c-45ab-9832-dbf733e19c6c",
   "metadata": {},
   "source": [
    "Choose among the above fissioning systems for which chain yields are available from [England & Rider, 1993](https://www-nds.iaea.org/endf349/la-ur-94-3106.pdf)."
   ]
  },
  {
   "cell_type": "code",
   "execution_count": null,
   "id": "445c5092-df42-437a-b68a-ce81dc41638b",
   "metadata": {},
   "outputs": [],
   "source": [
    "def gls_update(fy, zam, energy, s, y_extra, Vy_extra):\n",
    "    mask = f\"ZAM=={zam} & E=={energy} & MT==454\"\n",
    "    fy_data = fy.data.query(mask)\n",
    "    fy_post = fy.data.copy()\n",
    "    \n",
    "    s_ = np.array(s.reindex(index=y_extra.index, columns=fy_data.ZAP).fillna(0))\n",
    "    \n",
    "    # Put data in a appropiate format\n",
    "    x_prior_ = np.array(fy_data.FY)\n",
    "    Vx_prior_ = np.diag(fy_data.DFY**2)\n",
    "    y_extra_ = np.array(y_extra)\n",
    "    Vy_extra_ = np.array(Vy_extra.data)\n",
    "    \n",
    "    G = s_ @ Vx_prior_ @ s_.T + Vy_extra_\n",
    "    G_inv = np.linalg.pinv(G)\n",
    "    \n",
    "    # GlS update values\n",
    "    x_post = x_prior_ + Vx_prior_ @ s_.T @ G_inv @ (y_extra_ - s_ @ x_prior_)\n",
    "    \n",
    "    # GlS update covariance\n",
    "    Vx_post = Vx_prior_ - Vx_prior_ @ s_.T @ G_inv @ s_ @ Vx_prior_\n",
    "    \n",
    "    Vx_post = sandy.CategoryCov(Vx_post, index=fy_data.ZAP, columns=fy_data.ZAP)\n",
    "    fy_post.loc[fy_data.index, \"FY\"] = x_post\n",
    "    fy_post.loc[fy_data.index, \"DFY\"] = Vx_post.get_std().values\n",
    "    return fy.__class__(fy_post), Vx_post"
   ]
  },
  {
   "cell_type": "code",
   "execution_count": null,
   "id": "8c40f3f4-65bc-4f32-9934-991c841fd612",
   "metadata": {},
   "outputs": [],
   "source": [
    "nsmp = 1000  # sample size\n",
    "smp = {}\n",
    "acovs = {}\n",
    "rcovs = {}\n",
    "acovs_post = {}\n",
    "rcovs_post = {}\n",
    "for e, etext in zip(energies, [\"thermal\", \"fast\", \"high_energy\"]):  # change this for the nuclide you choose\n",
    "\n",
    "    # Run GLS update algorithm to create covariance matrix\n",
    "    mask = f\"E=={e} & MT==454\"\n",
    "    ify = fy.data.query(mask).set_index(\"ZAP\")\n",
    "    absolute_cov = sandy.CategoryCov.from_stdev(ify.DFY)\n",
    "    relative_cov = sandy.CategoryCov.from_stdev((ify.DFY / ify.FY).fillna(0))\n",
    "\n",
    "    acovs[e] = absolute_cov\n",
    "    rcovs[e] = relative_cov\n",
    "\n",
    "    \n",
    "    extra = chfy.query(f\"E=='{etext}' & ZAM=={za*10}\").set_index(\"A\")\n",
    "    y_extra = extra.CHY\n",
    "    Vy_extra = sandy.CategoryCov.from_stdev(extra.DCHY)\n",
    "\n",
    "    fy_post, cov_post = gls_update(fy, za*10, e, sensitivity, y_extra, Vy_extra)\n",
    "\n",
    "    ify_post = fy_post.data.query(mask).set_index(\"ZAP\")\n",
    "    absolute_cov_post = cov_post\n",
    "    relative_cov_post = cov_post.data / (ify_post.FY.values.reshape(-1, 1) @ ify_post.FY.values.reshape(1, -1))\n",
    "    # Symmetrize the resulting matrix\n",
    "    relative_cov_post = sandy.CategoryCov((relative_cov_post + relative_cov_post.T).fillna(0) / 2)\n",
    "\n",
    "    acovs_post[e] = absolute_cov_post\n",
    "    rcovs_post[e] = relative_cov_post\n",
    "\n",
    "\n",
    "    # Plot the generated covariance data and compare to original data \n",
    "    fig, axs = plt.subplots(1, 3, figsize=(12, 4))\n",
    "\n",
    "    ax = axs[0]\n",
    "    ify.reset_index().plot(x=\"ZAP\", y=\"FY\", ax=ax, kind=\"scatter\")\n",
    "    ify_post.reset_index().plot(x=\"ZAP\", y=\"FY\",ax=ax, kind=\"scatter\", color=\"tomato\", marker=\"x\")\n",
    "    ax.tick_params(labelbottom=False)\n",
    "    ax.set(yscale=\"log\")\n",
    "    \n",
    "    ax = axs[1]\n",
    "    relative_cov.get_std().reset_index().plot(x=\"ZAP\", y=\"STD\", kind=\"scatter\", ax=ax)\n",
    "    relative_cov_post.get_std().reset_index().plot(x=\"ZAP\", y=\"STD\", kind=\"scatter\", color=\"tomato\", marker=\"x\", ax=ax)\n",
    "    ax.tick_params(labelbottom=False)\n",
    "    ax.set(yscale=\"log\")\n",
    "\n",
    "    ax = axs[2]\n",
    "    sns.heatmap(relative_cov_post.get_corr().data, vmin=-1, vmax=1., cmap=\"bwr\", ax=ax)\n",
    "    ax.tick_params(labelbottom=False, labelleft=False)\n",
    "    \n",
    "    fig.suptitle(f\"ZAM={za*10} - E={e:.3e} eV\")\n",
    "    fig.tight_layout()\n",
    "\n",
    "\n",
    "    # Draw random sample from the new covariance data\n",
    "    seed = random.randrange(2**32 - 1)    # create a seed, need to change it for the different energies\n",
    "    print(f\"sampling IFY for energy {e:.3e} eV...\")\n",
    "    smp[e] = relative_cov_post.sampling(nsmp, seed=seed)   # sample from posterior covariance matrix"
   ]
  },
  {
   "cell_type": "code",
   "execution_count": null,
   "id": "2e1d5605-e932-406f-a4da-667478fb1d34",
   "metadata": {},
   "outputs": [],
   "source": [
    "with pd.ExcelWriter(f'PERT_{za}_MF8_MT454_COV.xlsx') as writer:\n",
    "    for e, s in smp.items():\n",
    "        s.data.to_excel(writer, sheet_name=f'{e:.3e}')"
   ]
  },
  {
   "cell_type": "markdown",
   "id": "c9d980cd-c181-465a-a499-acfaf0777027",
   "metadata": {},
   "source": [
    "## Read coefficients from perturbation file and generate random FY ENDF-6 files"
   ]
  },
  {
   "cell_type": "markdown",
   "id": "57c30635-895e-4ded-8b0d-ae9933f6cbf6",
   "metadata": {},
   "source": [
    "Skip the part above if you already have the file of perturbations."
   ]
  },
  {
   "cell_type": "code",
   "execution_count": null,
   "id": "e2eec6f2-8129-4395-a921-fdb13ca043ed",
   "metadata": {},
   "outputs": [],
   "source": [
    "smp = pd.read_excel(f'PERT_{za}_MF8_MT454_COV.xlsx', sheet_name=None, index_col=0)\n",
    "smp = {float(k): v for k, v in smp.items()}"
   ]
  },
  {
   "cell_type": "markdown",
   "id": "a3aaf92d-2cba-4e66-ab08-c681a43ce6ea",
   "metadata": {},
   "source": [
    "Compare convergence of relative perturbation coefficients in EXCEL file."
   ]
  },
  {
   "cell_type": "code",
   "execution_count": null,
   "id": "740c0c7d-8c4e-4251-868f-4752e14ff641",
   "metadata": {},
   "outputs": [],
   "source": [
    "fig, ax = plt.subplots()\n",
    "(smp[energies[0]].std(axis=1) / rcovs_post[energies[0]].get_std() - 1).fillna(0).multiply(100).rename(\"DIFF\").reset_index().plot(x=\"ZAP\", y=\"DIFF\", kind=\"scatter\", ax=ax, color=\"dodgerblue\", label=f\"E={energies[0]:.2e}\")\n",
    "(smp[energies[1]].std(axis=1) / rcovs_post[energies[1]].get_std() - 1).fillna(0).multiply(100).rename(\"DIFF\").reset_index().plot(x=\"ZAP\", y=\"DIFF\", kind=\"scatter\", ax=ax, color=\"tomato\", alpha=.6, label=f\"E={energies[1]:.2e}\")\n",
    "(smp[energies[2]].std(axis=1) / rcovs_post[energies[2]].get_std() - 1).fillna(0).multiply(100).rename(\"DIFF\").reset_index().plot(x=\"ZAP\", y=\"DIFF\", kind=\"scatter\", ax=ax, color=\"k\", alpha=.3, label=f\"E={energies[2]:.2e}\")\n",
    "ax.set(ylim=[-100, 100], ylabel=\"relative difference / $\\\\%$\", xlabel=\"ZAP\")\n",
    "ax.tick_params(labelbottom=False)\n",
    "fig.tight_layout()"
   ]
  },
  {
   "cell_type": "code",
   "execution_count": null,
   "id": "1e104351-9068-4d8b-adbb-9fefa18407b9",
   "metadata": {},
   "outputs": [],
   "source": [
    "za = 92235\n",
    "tape = sandy.get_endf6_file(\"jeff_33\", \"nfpy\", za * 10)\n",
    "nfpy = sandy.Fy.from_endf6(tape)"
   ]
  },
  {
   "cell_type": "code",
   "execution_count": null,
   "id": "181943ff-d4b9-4ba1-9fa3-94c67092f68c",
   "metadata": {},
   "outputs": [],
   "source": [
    "smp_min = 0   # write ENDF-6 file only in the sample range [smp_min, smp_max]\n",
    "smp_max = 99\n",
    "file_template = \"u235_fy_cov_{}.jeff33\"\n",
    "for ismp in range(smp_min, smp_max+1):\n",
    "    file = file_template.format(ismp)\n",
    "    f = sandy.Fy(nfpy.data.copy())\n",
    "    for e, s in smp.items():\n",
    "        idx_ify = nfpy.data.query(f\"E=={float(e)} & MT==454\").index\n",
    "        idx_cfy = nfpy.data.query(f\"E=={float(e)} & MT==459\").index\n",
    "        f.data.loc[idx_ify, \"DFY\"] = f.data.loc[idx_ify, \"FY\"]            # just for me, i copy the original IFYs where uncertainties should be, so i can compare them to the perturbed ones (anyways I don't use uncertainties)\n",
    "        f.data.loc[idx_cfy, \"DFY\"] = f.data.loc[idx_cfy, \"FY\"]            # same but for CFYs\n",
    "        f.data.loc[idx_ify, \"FY\"] *= s[ismp].values                # IMPORTANT, this does not update the CFYs, which in random ENDF-6 file are inconsistent with the perturbed IFYs\n",
    "        #f = f.apply_qmatrix(922350, e, rdd, keep_fy_index=True)      # Run this if you want to update the CFYs (slower), or else comment it out\n",
    "    print(f\"writing file '{file}'...\")\n",
    "    f.to_endf6(tape).to_file(file)"
   ]
  },
  {
   "cell_type": "markdown",
   "id": "fd32e12a-8652-440e-98c4-5f616f156035",
   "metadata": {},
   "source": [
    "Compare convergence of fission yields in ENDF-6 files."
   ]
  },
  {
   "cell_type": "code",
   "execution_count": null,
   "id": "68f52896-bcd4-49a2-8fbb-d943e53e34f6",
   "metadata": {},
   "outputs": [],
   "source": [
    "sfy = {ismp: sandy.Fy.from_endf6(sandy.Endf6.from_file(f\"u235_fy_cov_{ismp}.jeff33\")) for ismp in range(smp_min, smp_max+1)}"
   ]
  },
  {
   "cell_type": "code",
   "execution_count": null,
   "id": "2b3548e8-0798-41c7-a037-7a2883c3a527",
   "metadata": {},
   "outputs": [],
   "source": [
    "fig, axs = plt.subplots(1, 3, figsize=(12, 4), sharex=True, sharey=True)\n",
    "\n",
    "ax = axs[0]\n",
    "e = energies[0]\n",
    "mask = f\"E=={e} and MT==454\"\n",
    "d = pd.DataFrame({k: v.data.query(mask).set_index(\"ZAP\").FY for k, v in sfy.items()})\n",
    "(d.mean(axis=1) / nfpy.data.query(mask).set_index(\"ZAP\").FY - 1).fillna(0).multiply(100).rename(\"DIFF\").reset_index().plot(x=\"ZAP\", y=\"DIFF\", kind=\"scatter\", ax=ax, color=\"dodgerblue\", label=\"$\\\\frac{m- \\\\mu}{\\\\mu} \\\\times 100$\")\n",
    "((d.std(axis=1) / d.mean(axis=1)).fillna(0) / rcovs_post[energies[0]].get_std() - 1).fillna(0).multiply(100).rename(\"DIFF\").reset_index().plot(x=\"ZAP\", y=\"DIFF\", kind=\"scatter\", ax=ax, color=\"tomato\", alpha=.6, label=\"$\\\\frac{s_{post}- \\\\sigma_{post}}{\\\\sigma_{post}} \\\\times 100$\")\n",
    "ax.set(ylim=[-100, 100], ylabel=\"relative difference / $\\\\%$\", xlabel=\"ZAP\", title=f\"E={e:.2e} eV\")\n",
    "ax.tick_params(labelbottom=False)\n",
    "\n",
    "ax = axs[1]\n",
    "e = energies[1]\n",
    "mask = f\"E=={e} and MT==454\"\n",
    "d = pd.DataFrame({k: v.data.query(mask).set_index(\"ZAP\").FY for k, v in sfy.items()})\n",
    "(d.mean(axis=1) / nfpy.data.query(mask).set_index(\"ZAP\").FY - 1).fillna(0).multiply(100).rename(\"DIFF\").reset_index().plot(x=\"ZAP\", y=\"DIFF\", kind=\"scatter\", ax=ax, color=\"dodgerblue\", label=\"$\\\\frac{m- \\\\mu}{\\\\mu} \\\\times 100$\")\n",
    "((d.std(axis=1) / d.mean(axis=1)).fillna(0) / rcovs_post[energies[0]].get_std() - 1).fillna(0).multiply(100).rename(\"DIFF\").reset_index().plot(x=\"ZAP\", y=\"DIFF\", kind=\"scatter\", ax=ax, color=\"tomato\", alpha=.6, label=\"$\\\\frac{s_{post}- \\\\sigma_{post}}{\\\\sigma_{post}} \\\\times 100$\")\n",
    "ax.set(ylim=[-100, 100], ylabel=\"relative difference / $\\\\%$\", xlabel=\"ZAP\", title=f\"E={e:.2e} eV\")\n",
    "ax.tick_params(labelbottom=False)\n",
    "ax.get_legend().remove()\n",
    "\n",
    "ax = axs[2]\n",
    "e = energies[2]\n",
    "mask = f\"E=={e} and MT==454\"\n",
    "d = pd.DataFrame({k: v.data.query(mask).set_index(\"ZAP\").FY for k, v in sfy.items()})\n",
    "(d.mean(axis=1) / nfpy.data.query(mask).set_index(\"ZAP\").FY - 1).fillna(0).multiply(100).rename(\"DIFF\").reset_index().plot(x=\"ZAP\", y=\"DIFF\", kind=\"scatter\", ax=ax, color=\"dodgerblue\", label=\"$\\\\frac{m- \\\\mu}{\\\\mu} \\\\times 100$\")\n",
    "((d.std(axis=1) / d.mean(axis=1)).fillna(0) / rcovs_post[energies[0]].get_std() - 1).fillna(0).multiply(100).rename(\"DIFF\").reset_index().plot(x=\"ZAP\", y=\"DIFF\", kind=\"scatter\", ax=ax, color=\"tomato\", alpha=.6, label=\"$\\\\frac{s_{post}- \\\\sigma_{post}}{\\\\sigma_{post}} \\\\times 100$\")\n",
    "ax.set(ylim=[-100, 100], ylabel=\"relative difference / $\\\\%$\", xlabel=\"ZAP\", title=f\"E={e:.2e} eV\")\n",
    "ax.tick_params(labelbottom=False)\n",
    "ax.get_legend().remove()\n",
    "\n",
    "fig.tight_layout()"
   ]
  }
 ],
 "metadata": {
  "kernelspec": {
   "display_name": "sandy-devel",
   "language": "python",
   "name": "sandy-devel"
  },
  "language_info": {
   "codemirror_mode": {
    "name": "ipython",
    "version": 3
   },
   "file_extension": ".py",
   "mimetype": "text/x-python",
   "name": "python",
   "nbconvert_exporter": "python",
   "pygments_lexer": "ipython3",
   "version": "3.12.0"
  }
 },
 "nbformat": 4,
 "nbformat_minor": 5
}
