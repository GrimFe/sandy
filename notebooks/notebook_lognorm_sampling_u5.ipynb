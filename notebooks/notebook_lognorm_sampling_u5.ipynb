{
 "cells": [
  {
   "cell_type": "markdown",
   "id": "c37061a8",
   "metadata": {},
   "source": [
    "# Comparison between normal and log-normal sampling: U-235"
   ]
  },
  {
   "cell_type": "code",
   "execution_count": null,
   "id": "537c844f",
   "metadata": {
    "execution": {
     "iopub.execute_input": "2024-09-26T11:22:31.740825Z",
     "iopub.status.busy": "2024-09-26T11:22:31.740825Z",
     "iopub.status.idle": "2024-09-26T11:22:33.168539Z",
     "shell.execute_reply": "2024-09-26T11:22:33.168539Z"
    }
   },
   "outputs": [],
   "source": [
    "import sandy"
   ]
  },
  {
   "cell_type": "code",
   "execution_count": null,
   "id": "1c68596a",
   "metadata": {
    "execution": {
     "iopub.execute_input": "2024-09-26T11:22:33.172600Z",
     "iopub.status.busy": "2024-09-26T11:22:33.172600Z",
     "iopub.status.idle": "2024-09-26T11:22:33.967923Z",
     "shell.execute_reply": "2024-09-26T11:22:33.967314Z"
    }
   },
   "outputs": [],
   "source": [
    "import matplotlib.pyplot as plt\n",
    "import seaborn as sns"
   ]
  },
  {
   "cell_type": "code",
   "execution_count": null,
   "id": "32f55653",
   "metadata": {
    "execution": {
     "iopub.execute_input": "2024-09-26T11:22:33.970059Z",
     "iopub.status.busy": "2024-09-26T11:22:33.970059Z",
     "iopub.status.idle": "2024-09-26T11:22:33.975105Z",
     "shell.execute_reply": "2024-09-26T11:22:33.975105Z"
    }
   },
   "outputs": [],
   "source": [
    "import pandas as pd\n",
    "import numpy as np"
   ]
  },
  {
   "cell_type": "code",
   "execution_count": null,
   "id": "f12461aa",
   "metadata": {
    "execution": {
     "iopub.execute_input": "2024-09-26T11:22:33.978229Z",
     "iopub.status.busy": "2024-09-26T11:22:33.978229Z",
     "iopub.status.idle": "2024-09-26T11:22:33.982677Z",
     "shell.execute_reply": "2024-09-26T11:22:33.982677Z"
    }
   },
   "outputs": [],
   "source": [
    "nsmp = 1e5"
   ]
  },
  {
   "cell_type": "code",
   "execution_count": null,
   "id": "92bf02bd",
   "metadata": {
    "execution": {
     "iopub.execute_input": "2024-09-26T11:22:33.982677Z",
     "iopub.status.busy": "2024-09-26T11:22:33.982677Z",
     "iopub.status.idle": "2024-09-26T11:22:43.529347Z",
     "shell.execute_reply": "2024-09-26T11:22:43.529347Z"
    }
   },
   "outputs": [],
   "source": [
    "cov = sandy.get_endf6_file(\"jeff_33\", \"xs\", 922350).get_errorr(err=1, errorr33_kws=dict(ign=19), chi=False, mubar=False, nubar=False)[\"errorr33\"].get_cov()\n",
    "c = cov.data.values"
   ]
  },
  {
   "cell_type": "markdown",
   "id": "196460cf",
   "metadata": {},
   "source": [
    "Check 2-norm to see if sample covariance and sample mean match the original covariance and mean"
   ]
  },
  {
   "cell_type": "code",
   "execution_count": null,
   "id": "9a47e303",
   "metadata": {
    "execution": {
     "iopub.execute_input": "2024-09-26T11:22:43.532370Z",
     "iopub.status.busy": "2024-09-26T11:22:43.532370Z",
     "iopub.status.idle": "2024-09-26T11:22:55.704950Z",
     "shell.execute_reply": "2024-09-26T11:22:55.704950Z"
    }
   },
   "outputs": [],
   "source": [
    "s_ln = cov.sampling(nsmp, pdf=\"lognormal\")\n",
    "c_ln = s_ln.get_cov().values\n",
    "m_ln = s_ln.get_mean().values\n",
    "\n",
    "print(\n",
    "    np.linalg.norm(c_ln - c) / np.linalg.norm(c) * 100,\n",
    "    np.linalg.norm(m_ln - np.ones(m_ln.size)) / np.linalg.norm(np.ones(m_ln.size)) * 100,\n",
    ")\n",
    "\n",
    "s_n= cov.sampling(nsmp, pdf=\"normal\")\n",
    "c_n = s_n.get_cov().values\n",
    "m_n = s_n.get_mean().values\n",
    "\n",
    "print(\n",
    "    np.linalg.norm(c_n - c) / np.linalg.norm(c) * 100,\n",
    "    np.linalg.norm(m_n - np.ones(m_n.size)) / np.linalg.norm(np.ones(m_ln.size)) * 100,\n",
    ")"
   ]
  },
  {
   "cell_type": "markdown",
   "id": "fb76e20a",
   "metadata": {},
   "source": [
    "## Plot correlation"
   ]
  },
  {
   "cell_type": "code",
   "execution_count": null,
   "id": "ba85c74d",
   "metadata": {
    "execution": {
     "iopub.execute_input": "2024-09-26T11:22:55.704950Z",
     "iopub.status.busy": "2024-09-26T11:22:55.704950Z",
     "iopub.status.idle": "2024-09-26T11:26:15.582477Z",
     "shell.execute_reply": "2024-09-26T11:26:15.582477Z"
    }
   },
   "outputs": [],
   "source": [
    "fig, axs = plt.subplots(1, 2, figsize=(10, 6), dpi=100, sharex=True, sharey=True)\n",
    "\n",
    "cc = s_n.get_corr()\n",
    "sns.heatmap(cc, vmin=-1, vmax=1, cmap='bwr', ax=axs[0])\n",
    "\n",
    "cc = s_ln.get_corr()\n",
    "sns.heatmap(cc, vmin=-1, vmax=1, cmap='bwr', ax=axs[1])\n",
    "\n",
    "fig.tight_layout()"
   ]
  },
  {
   "cell_type": "markdown",
   "id": "b54cf556",
   "metadata": {},
   "source": [
    "## Plot stdev"
   ]
  },
  {
   "cell_type": "code",
   "execution_count": null,
   "id": "4c1ab322",
   "metadata": {
    "execution": {
     "iopub.execute_input": "2024-09-26T11:26:15.584595Z",
     "iopub.status.busy": "2024-09-26T11:26:15.584595Z",
     "iopub.status.idle": "2024-09-26T11:26:17.709040Z",
     "shell.execute_reply": "2024-09-26T11:26:17.709040Z"
    }
   },
   "outputs": [],
   "source": [
    "fig, ax = plt.subplots(figsize=(7, 4), dpi=100)\n",
    "\n",
    "s = s_n.get_rstd().reset_index()\n",
    "s[\"MT\"] = s[\"MT\"].astype(\"category\")\n",
    "s[\"ERIGHT\"] = [x.right for x in s.E]\n",
    "s[\"RSTD\"] *= 100\n",
    "sns.lineplot(data=s, x=\"ERIGHT\", y=\"RSTD\", hue=\"MT\", palette=\"tab20\", ax=ax, drawstyle=\"steps-pre\")\n",
    "\n",
    "s = s_ln.get_rstd().reset_index()\n",
    "s[\"MT\"] = s[\"MT\"].astype(\"category\")\n",
    "s[\"ERIGHT\"] = [x.right for x in s.E]\n",
    "s[\"RSTD\"] *= 100\n",
    "sns.lineplot(data=s, x=\"ERIGHT\", y=\"RSTD\", hue=\"MT\", palette=\"tab20\", ax=ax, drawstyle=\"steps-pre\", legend=None, ls=\"--\")\n",
    "\n",
    "s = cov.get_std().reset_index()\n",
    "s[\"MT\"] = s[\"MT\"].astype(\"category\")\n",
    "s[\"ERIGHT\"] = [x.right for x in s.E]\n",
    "s[\"STD\"] *= 100\n",
    "sns.lineplot(data=s, x=\"ERIGHT\", y=\"STD\", hue=\"MT\", palette=['k'] * s.MT.unique().size, ax=ax, drawstyle=\"steps-pre\", legend=None, ls=\"-.\", lw=.5)\n",
    "\n",
    "ax.set(xscale=\"log\")\n",
    "\n",
    "fig.tight_layout()"
   ]
  },
  {
   "cell_type": "markdown",
   "id": "0cf318ee",
   "metadata": {},
   "source": [
    "## Plot mean"
   ]
  },
  {
   "cell_type": "code",
   "execution_count": null,
   "id": "24077197",
   "metadata": {
    "execution": {
     "iopub.execute_input": "2024-09-26T11:26:17.710100Z",
     "iopub.status.busy": "2024-09-26T11:26:17.710100Z",
     "iopub.status.idle": "2024-09-26T11:26:18.450777Z",
     "shell.execute_reply": "2024-09-26T11:26:18.450777Z"
    }
   },
   "outputs": [],
   "source": [
    "fig, ax = plt.subplots(figsize=(7, 4), dpi=100)\n",
    "\n",
    "s = s_n.get_mean().reset_index()\n",
    "s[\"MT\"] = s[\"MT\"].astype(\"category\")\n",
    "s[\"ERIGHT\"] = [x.right for x in s.E]\n",
    "sns.lineplot(data=s, x=\"ERIGHT\", y=\"MEAN\", hue=\"MT\", palette=\"tab20\", ax=ax, drawstyle=\"steps-pre\")\n",
    "\n",
    "s = s_ln.get_mean().reset_index()\n",
    "s[\"MT\"] = s[\"MT\"].astype(\"category\")\n",
    "s[\"ERIGHT\"] = [x.right for x in s.E]\n",
    "sns.lineplot(data=s, x=\"ERIGHT\", y=\"MEAN\", hue=\"MT\", palette=\"tab20\", ax=ax, drawstyle=\"steps-pre\", legend=None, ls=\"--\")\n",
    "\n",
    "ax.set(xscale=\"log\")\n",
    "\n",
    "fig.tight_layout()"
   ]
  }
 ],
 "metadata": {
  "kernelspec": {
   "display_name": "Python [conda env:sandy-v1.0] *",
   "language": "python",
   "name": "conda-env-sandy-v1.0-py"
  },
  "language_info": {
   "codemirror_mode": {
    "name": "ipython",
    "version": 3
   },
   "file_extension": ".py",
   "mimetype": "text/x-python",
   "name": "python",
   "nbconvert_exporter": "python",
   "pygments_lexer": "ipython3",
   "version": "3.12.3"
  }
 },
 "nbformat": 4,
 "nbformat_minor": 5
}
