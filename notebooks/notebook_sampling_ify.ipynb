{
 "cells": [
  {
   "cell_type": "markdown",
   "id": "2e8a7f97-24b4-455e-b768-57cdee820012",
   "metadata": {},
   "source": [
    "# Create perturbed FY files (only variance, all energies)"
   ]
  },
  {
   "cell_type": "code",
   "execution_count": null,
   "id": "06dad8ae-478b-44fe-a0cc-8cd37bd4acc3",
   "metadata": {},
   "outputs": [],
   "source": [
    "import sandy\n",
    "import pandas as pd\n",
    "from os.path import join\n",
    "import numpy as np\n",
    "import random, sys\n",
    "import matplotlib.pyplot as plt"
   ]
  },
  {
   "cell_type": "markdown",
   "id": "db66e7a6-e7a9-46a2-abea-6cfc699122b3",
   "metadata": {},
   "source": [
    "## Extract FYs and covariance data for U235 fission"
   ]
  },
  {
   "cell_type": "code",
   "execution_count": null,
   "id": "3096afe7-8921-4dfe-94b4-1e3443954424",
   "metadata": {},
   "outputs": [],
   "source": [
    "za = 92235\n",
    "tape = sandy.get_endf6_file(\"jeff_33\", \"nfpy\", za * 10)\n",
    "nfpy = sandy.Fy.from_endf6(tape)"
   ]
  },
  {
   "cell_type": "markdown",
   "id": "891967d7-eb66-424f-a8a4-14f625f133cf",
   "metadata": {},
   "source": [
    "## Generate perturbation coefficients for all energies and write them to file"
   ]
  },
  {
   "cell_type": "code",
   "execution_count": null,
   "id": "9aa1f7c4-9897-4557-bf2b-626504924a8c",
   "metadata": {},
   "outputs": [],
   "source": [
    "energies = nfpy.data.E.unique()"
   ]
  },
  {
   "cell_type": "code",
   "execution_count": null,
   "id": "7b45981f-8bf9-4c4b-bbb5-5f3e8ed4098a",
   "metadata": {},
   "outputs": [],
   "source": [
    "nsmp = 100 # sample size\n",
    "smp = {}\n",
    "rcovs = {}\n",
    "acovs = {}\n",
    "for e in energies:\n",
    "    idx = nfpy.data.query(f\"E=={e} & MT==454\").index\n",
    "    ify = nfpy.data.loc[idx]\n",
    "    relative_dfy = (ify.DFY/ify.FY).fillna(0).values\n",
    "    cov = rcovs[e] = sandy.CategoryCov(np.diag(relative_dfy**2), index=ify.ZAP, columns=ify.ZAP)  # Diagonal covariance matrix\n",
    "    acovs[e] = sandy.CategoryCov(np.diag(ify.DFY**2), index=ify.ZAP, columns=ify.ZAP)  # Diagonal covariance matrix\n",
    "    seed = random.randrange(2**32 - 1)    # create a seed\n",
    "    print(f\"sampling IFY for energy {e:.3e} eV...\")\n",
    "    smp[e] = cov.sampling(nsmp, seed=seed)   # need to change the seed for the different energies    "
   ]
  },
  {
   "cell_type": "code",
   "execution_count": null,
   "id": "1d6bb1ef-e27b-4e2f-91b5-29156a293860",
   "metadata": {},
   "outputs": [],
   "source": [
    "with pd.ExcelWriter(f'PERT_{za}_MF8_MT454.xlsx') as writer:\n",
    "    for e, s in smp.items():\n",
    "        s.data.to_excel(writer, sheet_name=f'{e:.3e}')"
   ]
  },
  {
   "cell_type": "markdown",
   "id": "c9d980cd-c181-465a-a499-acfaf0777027",
   "metadata": {},
   "source": [
    "## Read coefficients from perturbation file and generate random FY ENDF-6 files"
   ]
  },
  {
   "cell_type": "markdown",
   "id": "57c30635-895e-4ded-8b0d-ae9933f6cbf6",
   "metadata": {},
   "source": [
    "Skip the part above if you already have the file of perturbations."
   ]
  },
  {
   "cell_type": "code",
   "execution_count": null,
   "id": "e2eec6f2-8129-4395-a921-fdb13ca043ed",
   "metadata": {},
   "outputs": [],
   "source": [
    "smp = pd.read_excel(f'PERT_{za}_MF8_MT454.xlsx', sheet_name=None, index_col=0)"
   ]
  },
  {
   "cell_type": "code",
   "execution_count": null,
   "id": "1e104351-9068-4d8b-adbb-9fefa18407b9",
   "metadata": {},
   "outputs": [],
   "source": [
    "za = 92235\n",
    "tape = sandy.get_endf6_file(\"jeff_33\", \"nfpy\", za * 10)\n",
    "nfpy = sandy.Fy.from_endf6(tape)"
   ]
  },
  {
   "cell_type": "code",
   "execution_count": null,
   "id": "ca0cd0b6-e679-48e9-87e9-dddf139a8a08",
   "metadata": {},
   "outputs": [],
   "source": [
    "### run only if you want consistent CFYs\n",
    "# tape_rdd = sandy.get_endf6_file(\"jeff_33\", \"decay\", \"all\")\n",
    "# rdd = sandy.DecayData.from_endf6(tape_rdd)  # this can take a while"
   ]
  },
  {
   "cell_type": "code",
   "execution_count": null,
   "id": "181943ff-d4b9-4ba1-9fa3-94c67092f68c",
   "metadata": {},
   "outputs": [],
   "source": [
    "smp_min = 0   # write ENDF-6 file only in the sample range [smp_min, smp_max]\n",
    "smp_max = 99\n",
    "file_template = \"u235_fy_{}.jeff33\"\n",
    "for ismp in range(smp_min, smp_max+1):\n",
    "    file = file_template.format(ismp)\n",
    "    f = sandy.Fy(nfpy.data.copy())\n",
    "    for e, s in smp.items():\n",
    "        idx_ify = nfpy.data.query(f\"E=={float(e)} & MT==454\").index\n",
    "        idx_cfy = nfpy.data.query(f\"E=={float(e)} & MT==459\").index\n",
    "        f.data.loc[idx_ify, \"DFY\"] = f.data.loc[idx_ify, \"FY\"]            # just for me, i copy the original IFYs where uncertainties should be, so i can compare them to the perturbed ones (anyways I don't use uncertainties)\n",
    "        f.data.loc[idx_cfy, \"DFY\"] = f.data.loc[idx_cfy, \"FY\"]            # same but for CFYs\n",
    "        f.data.loc[idx_ify, \"FY\"] *= s[ismp].values                # IMPORTANT, this does not update the CFYs, which in random ENDF-6 file are inconsistent with the perturbed IFYs\n",
    "        #f = f.apply_qmatrix(922350, e, rdd, keep_fy_index=True)      # Run this if you want to update the CFYs (slower), or else comment it out\n",
    "    print(f\"writing file '{file}'...\")\n",
    "    f.to_endf6(tape).to_file(file)"
   ]
  },
  {
   "cell_type": "code",
   "execution_count": null,
   "id": "b6073c28-8097-4104-ae0b-83d814f44c3b",
   "metadata": {},
   "outputs": [],
   "source": [
    "mfy_th = {}\n",
    "mfy_fast = {}\n",
    "mfy_he = {}\n",
    "for ismp in range(smp_min, smp_max+1):\n",
    "    fysmp = sandy.Fy.from_endf6(sandy.Endf6.from_file(f\"u235_fy_{ismp}.jeff33\"))\n",
    "    mfy_th[ismp] = fysmp.get_mass_yield(zam=922350, e=energies[0])\n",
    "    mfy_fast[ismp] = fysmp.get_mass_yield(zam=922350, e=energies[1])\n",
    "    mfy_he[ismp] = fysmp.get_mass_yield(zam=922350, e=energies[2])\n",
    "mfy_th = pd.DataFrame(mfy_th).rename_axis(\"SMP\", axis=1)\n",
    "mfy_fast = pd.DataFrame(mfy_fast).rename_axis(\"SMP\", axis=1)\n",
    "mfy_he = pd.DataFrame(mfy_he).rename_axis(\"SMP\", axis=1)"
   ]
  },
  {
   "cell_type": "code",
   "execution_count": null,
   "id": "6a71263f-d86f-4152-8fd7-133661babc6e",
   "metadata": {},
   "outputs": [],
   "source": [
    "e = energies[0]\n",
    "\n",
    "mask = f\"MT==454 and E=={e}\"\n",
    "ify = nfpy.data.query(mask)\n",
    "S = sandy.Fy(ify).get_mass_yield_sensitivity()\n",
    "C = pd.DataFrame(acovs[e].data.values, index=ify.ZAP.values, columns=ify.ZAP.values)\n",
    "cov_mfy = sandy.CategoryCov(S @ C @ S.T)\n",
    "\n",
    "mu = nfpy.get_mass_yield(zam=922350, e=e)\n",
    "sigma = cov_mfy.get_std()\n",
    "\n",
    "fig, axs = plt.subplots(1, 2, figsize=(10, 5), sharex=True)\n",
    "\n",
    "ax = axs[0]\n",
    "ax.errorbar(x=mfy_th.index, y=mfy_th.T.mean(), yerr=mfy_th.T.std(), marker=\"s\", ms=4, linestyle=\"none\", capsize=2, ecolor=\"blue\", color=\"dodgerblue\", label=\"sample estimate\")\n",
    "ax.errorbar(x=mu.index, y=mu.values, yerr=sigma.values, marker=\"s\", ms=4, linestyle=\"none\", capsize=2, ecolor=\"k\", color=\"k\", alpha=.4, label=\"original data\")\n",
    "ax.set(ylabel=\"mass yields\", xlabel=\"A\")\n",
    "\n",
    "ax = axs[1]\n",
    "diff_mean = (mfy_th.T.mean() / mu  - 1) * 100\n",
    "diff_std = (mfy_th.T.std() / sigma - 1) * 100\n",
    "ax.errorbar(x=diff_mean.index, y=diff_mean.values, marker=\"s\", ms=4, linestyle=\"none\", color=\"dodgerblue\", label=\"$\\\\frac{m- \\\\mu}{\\\\mu} \\\\times 100$\")\n",
    "ax.errorbar(x=diff_std.index, y=diff_std.values, marker=\"s\", ms=4, linestyle=\"none\", color=\"tomato\", label=\"$\\\\frac{s- \\\\sigma}{\\\\sigma} \\\\times 100$\")\n",
    "ax.set(ylim=[-100, 100], ylabel=\"relative difference / $\\\\%$\", xlabel=\"A\")\n",
    "ax.legend()\n",
    "fig.tight_layout()"
   ]
  },
  {
   "cell_type": "code",
   "execution_count": null,
   "id": "d4898b17-7338-43cd-9a08-ffc097c092ec",
   "metadata": {},
   "outputs": [],
   "source": [
    "e = energies[1]\n",
    "\n",
    "mask = f\"MT==454 and E=={e}\"\n",
    "ify = nfpy.data.query(mask)\n",
    "S = sandy.Fy(ify).get_mass_yield_sensitivity()\n",
    "C = pd.DataFrame(acovs[e].data.values, index=ify.ZAP.values, columns=ify.ZAP.values)\n",
    "cov_mfy = sandy.CategoryCov(S @ C @ S.T)\n",
    "\n",
    "mu = nfpy.get_mass_yield(zam=922350, e=e)\n",
    "sigma = cov_mfy.get_std()\n",
    "\n",
    "fig, axs = plt.subplots(1, 2, figsize=(10, 5), sharex=True)\n",
    "\n",
    "ax = axs[0]\n",
    "ax.errorbar(x=mfy_fast.index, y=mfy_fast.T.mean(), yerr=mfy_fast.T.std(), marker=\"s\", ms=4, linestyle=\"none\", capsize=2, ecolor=\"blue\", color=\"dodgerblue\", label=\"sample estimate\")\n",
    "ax.errorbar(x=mu.index, y=mu.values, yerr=sigma.values, marker=\"s\", ms=4, linestyle=\"none\", capsize=2, ecolor=\"k\", color=\"k\", alpha=.4, label=\"original data\")\n",
    "ax.set(ylabel=\"mass yields\", xlabel=\"A\")\n",
    "\n",
    "ax = axs[1]\n",
    "diff_mean = (mfy_fast.T.mean() / mu  - 1) * 100\n",
    "diff_std = (mfy_fast.T.std() / sigma - 1) * 100\n",
    "ax.errorbar(x=diff_mean.index, y=diff_mean.values, marker=\"s\", ms=4, linestyle=\"none\", color=\"dodgerblue\", label=\"$\\\\frac{m- \\\\mu}{\\\\mu} \\\\times 100$\")\n",
    "ax.errorbar(x=diff_std.index, y=diff_std.values, marker=\"s\", ms=4, linestyle=\"none\", color=\"tomato\", label=\"$\\\\frac{s- \\\\sigma}{\\\\sigma} \\\\times 100$\")\n",
    "ax.set(ylim=[-100, 100], ylabel=\"relative difference / $\\\\%$\", xlabel=\"A\")\n",
    "ax.legend()\n",
    "fig.tight_layout()"
   ]
  },
  {
   "cell_type": "code",
   "execution_count": null,
   "id": "9e0a5a39-6798-4e81-9ca2-34ac5f0c5ad3",
   "metadata": {},
   "outputs": [],
   "source": [
    "e = energies[2]\n",
    "\n",
    "mask = f\"MT==454 and E=={e}\"\n",
    "ify = nfpy.data.query(mask)\n",
    "S = sandy.Fy(ify).get_mass_yield_sensitivity()\n",
    "C = pd.DataFrame(acovs[e].data.values, index=ify.ZAP.values, columns=ify.ZAP.values)\n",
    "cov_mfy = sandy.CategoryCov(S @ C @ S.T)\n",
    "\n",
    "mu = nfpy.get_mass_yield(zam=922350, e=e)\n",
    "sigma = cov_mfy.get_std()\n",
    "\n",
    "fig, axs = plt.subplots(1, 2, figsize=(10, 5), sharex=True)\n",
    "\n",
    "ax = axs[0]\n",
    "ax.errorbar(x=mfy_he.index, y=mfy_he.T.mean(), yerr=mfy_he.T.std(), marker=\"s\", ms=4, linestyle=\"none\", capsize=2, ecolor=\"blue\", color=\"dodgerblue\", label=\"sample estimate\")\n",
    "ax.errorbar(x=mu.index, y=mu.values, yerr=sigma.values, marker=\"s\", ms=4, linestyle=\"none\", capsize=2, ecolor=\"k\", color=\"k\", alpha=.4, label=\"original data\")\n",
    "ax.set(ylabel=\"mass yields\", xlabel=\"A\")\n",
    "\n",
    "ax = axs[1]\n",
    "diff_mean = (mfy_he.T.mean() / mu  - 1) * 100\n",
    "diff_std = (mfy_he.T.std() / sigma - 1) * 100\n",
    "ax.errorbar(x=diff_mean.index, y=diff_mean.values, marker=\"s\", ms=4, linestyle=\"none\", color=\"dodgerblue\", label=\"$\\\\frac{m- \\\\mu}{\\\\mu} \\\\times 100$\")\n",
    "ax.errorbar(x=diff_std.index, y=diff_std.values, marker=\"s\", ms=4, linestyle=\"none\", color=\"tomato\", label=\"$\\\\frac{s- \\\\sigma}{\\\\sigma} \\\\times 100$\")\n",
    "ax.set(ylim=[-100, 100], ylabel=\"relative difference / $\\\\%$\", xlabel=\"A\")\n",
    "ax.legend()\n",
    "fig.tight_layout()"
   ]
  }
 ],
 "metadata": {
  "kernelspec": {
   "display_name": "sandy-devel",
   "language": "python",
   "name": "sandy-devel"
  },
  "language_info": {
   "codemirror_mode": {
    "name": "ipython",
    "version": 3
   },
   "file_extension": ".py",
   "mimetype": "text/x-python",
   "name": "python",
   "nbconvert_exporter": "python",
   "pygments_lexer": "ipython3",
   "version": "3.12.0"
  }
 },
 "nbformat": 4,
 "nbformat_minor": 5
}
