{
 "cells": [
  {
   "cell_type": "markdown",
   "id": "41ead5fc-5552-42e6-881c-45a1ed144d77",
   "metadata": {},
   "source": [
    "# Produce sample of radioactive decay data files"
   ]
  },
  {
   "cell_type": "code",
   "execution_count": null,
   "id": "5911301f-43c6-4b41-b22e-996b6c9a9594",
   "metadata": {},
   "outputs": [],
   "source": [
    "import sandy\n",
    "import glob"
   ]
  },
  {
   "cell_type": "markdown",
   "id": "ff81c09a-cab4-4414-966f-46f543ef11f1",
   "metadata": {},
   "source": [
    "## Sampling procedure"
   ]
  },
  {
   "cell_type": "markdown",
   "id": "30624ae2-d982-423f-bf22-a9acb573bc10",
   "metadata": {},
   "source": [
    "Get a few ENDF-6 decay data files from JEFF-3.3, just to make the notebook run faster.\n",
    "> To process the full radioactive decay data library just replace this line with `sandy.get_endf6_file(\"jeff_33\", \"decay\", \"all\")`"
   ]
  },
  {
   "cell_type": "code",
   "execution_count": null,
   "id": "5fcc5280-36da-482a-a5a6-88e728bc51ce",
   "metadata": {},
   "outputs": [],
   "source": [
    "tape = sandy.get_endf6_file(\"jeff_33\", \"decay\", [10010, 10040, 270600, 571380])"
   ]
  },
  {
   "cell_type": "markdown",
   "id": "539ab7f9-96a5-41d7-8f1a-f2da1dfa6f1a",
   "metadata": {},
   "source": [
    "Then write the data locally to file."
   ]
  },
  {
   "cell_type": "code",
   "execution_count": null,
   "id": "fe661f82-0bad-417b-86f3-c0fae9ae48f5",
   "metadata": {},
   "outputs": [],
   "source": [
    "tape.to_file(\"decay_data.jeff33\")"
   ]
  },
  {
   "cell_type": "markdown",
   "id": "b1829be7-3d7c-4e7a-91cd-3d0521de726f",
   "metadata": {},
   "source": [
    "To produce 3 random files you can run the following from the command line:"
   ]
  },
  {
   "cell_type": "code",
   "execution_count": null,
   "id": "3a895b58-7dff-4bb0-bede-e45aaf135b7f",
   "metadata": {},
   "outputs": [],
   "source": [
    "!python -m sandy.sampling decay_data.jeff33 --samples 3 --processes 1"
   ]
  },
  {
   "cell_type": "markdown",
   "id": "4f91e40d-3b3e-4dd3-8fc0-6aaea7a1387f",
   "metadata": {},
   "source": [
    "This is equivalent to using the python interface:"
   ]
  },
  {
   "cell_type": "code",
   "execution_count": null,
   "id": "226e9dde-1f17-45f0-8550-a7e2dc36c391",
   "metadata": {},
   "outputs": [],
   "source": [
    "cli = \"decay_data.jeff33 --samples 3 --processes 1\"\n",
    "sandy.sampling.run(cli.split())"
   ]
  },
  {
   "cell_type": "markdown",
   "id": "33b9d9c1-bd0c-48b7-b230-91b52a7234c2",
   "metadata": {},
   "source": [
    "Three perturbed decay data file are created."
   ]
  },
  {
   "cell_type": "code",
   "execution_count": null,
   "id": "cc016094-a987-4825-a20e-0ff8e2194b55",
   "metadata": {},
   "outputs": [],
   "source": [
    "glob.glob(\"decay_data*\")"
   ]
  },
  {
   "cell_type": "markdown",
   "id": "af74588e-edea-465f-a9b8-80e861441909",
   "metadata": {},
   "source": [
    "## Check outputs"
   ]
  },
  {
   "cell_type": "markdown",
   "id": "a67ec1f8-d666-44a5-9acf-5d9ddca31426",
   "metadata": {},
   "source": [
    "You can see that the decay constants, decay energya nd branching ratios of La-138 are perturbed.\n",
    "\n",
    "Branching ratios are also normalized to 1, ensuring physical consistency."
   ]
  },
  {
   "cell_type": "code",
   "execution_count": null,
   "id": "1f4d66a2-c827-4359-bbc4-72731ab2eae3",
   "metadata": {},
   "outputs": [],
   "source": [
    "print(sandy.Endf6.from_file(\"decay_data.jeff33\").data[(1904, 8, 457)][:(66+15)*6])"
   ]
  },
  {
   "cell_type": "code",
   "execution_count": null,
   "id": "5565f8c7-ef55-4c1e-a59d-979785759f58",
   "metadata": {},
   "outputs": [],
   "source": [
    "print(sandy.Endf6.from_file(\"decay_data_0\").data[(1904, 8, 457)][:(66+15)*6])"
   ]
  },
  {
   "cell_type": "code",
   "execution_count": null,
   "id": "dc904ea8-531b-4b89-b351-e77964499c33",
   "metadata": {},
   "outputs": [],
   "source": [
    "print(sandy.Endf6.from_file(\"decay_data_1\").data[(1904, 8, 457)][:(66+15)*6])"
   ]
  },
  {
   "cell_type": "code",
   "execution_count": null,
   "id": "615fba10-5549-482f-837c-5e1aaf11c5d8",
   "metadata": {},
   "outputs": [],
   "source": [
    "print(sandy.Endf6.from_file(\"decay_data_2\").data[(1904, 8, 457)][:(66+15)*6])"
   ]
  },
  {
   "cell_type": "markdown",
   "id": "09d8040e-9672-4483-878a-bf80df471a7f",
   "metadata": {},
   "source": [
    "The gamma decay energy of H-4 is also perturbed, despite having zero uncertainty.\n",
    "\n",
    "> When decay constants and decay energies are found with zero uncertainty, a default 5% uncertainty is assigned by default. "
   ]
  },
  {
   "cell_type": "code",
   "execution_count": null,
   "id": "e912729b-18cc-49d3-8114-96b2e8ab93c9",
   "metadata": {},
   "outputs": [],
   "source": [
    "print(sandy.Endf6.from_file(\"decay_data.jeff33\").data[(5, 8, 457)][:(66+15)*3])"
   ]
  },
  {
   "cell_type": "code",
   "execution_count": null,
   "id": "b34ef81b-ca11-40ab-bc56-6cd46d38a790",
   "metadata": {},
   "outputs": [],
   "source": [
    "print(sandy.Endf6.from_file(\"decay_data_2\").data[(5, 8, 457)][:(66+15)*3])"
   ]
  }
 ],
 "metadata": {
  "kernelspec": {
   "display_name": "sandy-devel",
   "language": "python",
   "name": "sandy-devel"
  },
  "language_info": {
   "codemirror_mode": {
    "name": "ipython",
    "version": 3
   },
   "file_extension": ".py",
   "mimetype": "text/x-python",
   "name": "python",
   "nbconvert_exporter": "python",
   "pygments_lexer": "ipython3",
   "version": "3.12.3"
  }
 },
 "nbformat": 4,
 "nbformat_minor": 5
}
