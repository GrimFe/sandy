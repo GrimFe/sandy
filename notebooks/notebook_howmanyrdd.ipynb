{
 "cells": [
  {
   "cell_type": "markdown",
   "id": "0bc344cf",
   "metadata": {},
   "source": [
    "# How many nuclides in the decay data libraries?"
   ]
  },
  {
   "cell_type": "code",
   "execution_count": null,
   "id": "6123dc04",
   "metadata": {
    "execution": {
     "iopub.execute_input": "2024-09-26T11:19:55.235036Z",
     "iopub.status.busy": "2024-09-26T11:19:55.235036Z",
     "iopub.status.idle": "2024-09-26T11:19:56.653500Z",
     "shell.execute_reply": "2024-09-26T11:19:56.653500Z"
    }
   },
   "outputs": [],
   "source": [
    "import sandy"
   ]
  },
  {
   "cell_type": "code",
   "execution_count": null,
   "id": "988d6ad5",
   "metadata": {
    "execution": {
     "iopub.execute_input": "2024-09-26T11:19:56.653500Z",
     "iopub.status.busy": "2024-09-26T11:19:56.653500Z",
     "iopub.status.idle": "2024-09-26T11:19:56.661093Z",
     "shell.execute_reply": "2024-09-26T11:19:56.661093Z"
    }
   },
   "outputs": [],
   "source": [
    "import pandas as pd"
   ]
  },
  {
   "cell_type": "code",
   "execution_count": null,
   "id": "26e45db5",
   "metadata": {
    "execution": {
     "iopub.execute_input": "2024-09-26T11:19:56.661093Z",
     "iopub.status.busy": "2024-09-26T11:19:56.661093Z",
     "iopub.status.idle": "2024-09-26T11:19:56.667568Z",
     "shell.execute_reply": "2024-09-26T11:19:56.667568Z"
    }
   },
   "outputs": [],
   "source": [
    "libraries = [\"jeff_33\", \"jeff_311\", \"endfb_80\", \"endfb_71\", \"jendl_40u\"]"
   ]
  },
  {
   "cell_type": "code",
   "execution_count": null,
   "id": "e3bf76d5",
   "metadata": {
    "execution": {
     "iopub.execute_input": "2024-09-26T11:19:56.669101Z",
     "iopub.status.busy": "2024-09-26T11:19:56.669101Z",
     "iopub.status.idle": "2024-09-26T11:20:12.781124Z",
     "shell.execute_reply": "2024-09-26T11:20:12.781124Z"
    }
   },
   "outputs": [],
   "source": [
    "data = {}\n",
    "for library in libraries:\n",
    "    print(f\"reading library '{library.upper()}'...\")\n",
    "    tape = sandy.get_endf6_file(library, \"decay\", \"all\")\n",
    "    size = len(tape.data)\n",
    "    data[library.upper()] = size"
   ]
  },
  {
   "cell_type": "code",
   "execution_count": null,
   "id": "50414a3b",
   "metadata": {
    "execution": {
     "iopub.execute_input": "2024-09-26T11:20:12.783681Z",
     "iopub.status.busy": "2024-09-26T11:20:12.783681Z",
     "iopub.status.idle": "2024-09-26T11:20:12.790985Z",
     "shell.execute_reply": "2024-09-26T11:20:12.790985Z"
    }
   },
   "outputs": [],
   "source": [
    "print(pd.Series(data, name=\"# nuclides\").rename_axis(\"library\").reset_index())"
   ]
  }
 ],
 "metadata": {
  "kernelspec": {
   "display_name": "Python [conda env:sandy-v1.0] *",
   "language": "python",
   "name": "conda-env-sandy-v1.0-py"
  },
  "language_info": {
   "codemirror_mode": {
    "name": "ipython",
    "version": 3
   },
   "file_extension": ".py",
   "mimetype": "text/x-python",
   "name": "python",
   "nbconvert_exporter": "python",
   "pygments_lexer": "ipython3",
   "version": "3.12.3"
  }
 },
 "nbformat": 4,
 "nbformat_minor": 5
}
