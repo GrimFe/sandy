{
 "cells": [
  {
   "cell_type": "markdown",
   "id": "e40ddec2",
   "metadata": {},
   "source": [
    "# Apply covariance matrix to i.i.d samples"
   ]
  },
  {
   "cell_type": "code",
   "execution_count": null,
   "id": "9e2c4eef",
   "metadata": {
    "execution": {
     "iopub.execute_input": "2024-09-26T11:06:06.534504Z",
     "iopub.status.busy": "2024-09-26T11:06:06.534504Z",
     "iopub.status.idle": "2024-09-26T11:06:08.814618Z",
     "shell.execute_reply": "2024-09-26T11:06:08.814618Z"
    }
   },
   "outputs": [],
   "source": [
    "import sandy"
   ]
  },
  {
   "cell_type": "code",
   "execution_count": null,
   "id": "b5548e43",
   "metadata": {
    "execution": {
     "iopub.execute_input": "2024-09-26T11:06:08.814618Z",
     "iopub.status.busy": "2024-09-26T11:06:08.814618Z",
     "iopub.status.idle": "2024-09-26T11:06:08.828450Z",
     "shell.execute_reply": "2024-09-26T11:06:08.828450Z"
    }
   },
   "outputs": [],
   "source": [
    "import numpy as np\n",
    "import pandas as pd"
   ]
  },
  {
   "cell_type": "code",
   "execution_count": null,
   "id": "02407c34",
   "metadata": {
    "execution": {
     "iopub.execute_input": "2024-09-26T11:06:08.828450Z",
     "iopub.status.busy": "2024-09-26T11:06:08.828450Z",
     "iopub.status.idle": "2024-09-26T11:06:10.273354Z",
     "shell.execute_reply": "2024-09-26T11:06:10.273354Z"
    }
   },
   "outputs": [],
   "source": [
    "import matplotlib.pyplot as plt\n",
    "import seaborn as sns\n",
    "sns.set_style(\"whitegrid\")"
   ]
  },
  {
   "cell_type": "markdown",
   "id": "9456e07b",
   "metadata": {},
   "source": [
    "A multivariate normal distribution is a generalization of the one-dimensional normal distribution to higher dimensions.\n",
    "Such a distribution is specified by its mean $\\mathbf{\\mu}$ and covariance matrix $\\mathbf{\\Sigma}$, as in\n",
    "\n",
    "$$\n",
    "\\mathcal{N}\\left(\\mathbf{\\mu}, \\mathbf{\\Sigma}\\right)\n",
    "$$\n",
    "\n",
    "These parameters are analogous to the mean and variance of the one-dimensional normal distribution."
   ]
  },
  {
   "cell_type": "markdown",
   "id": "bf03c584",
   "metadata": {},
   "source": [
    "The covariance matrix $\\mathbf{\\Sigma}$ must be symmetric and positive-semidefinite (PSD) for proper sampling."
   ]
  },
  {
   "cell_type": "markdown",
   "id": "d3e618ed",
   "metadata": {},
   "source": [
    "## Sample i.i.d parameters"
   ]
  },
  {
   "cell_type": "markdown",
   "id": "c1bf7c4e",
   "metadata": {},
   "source": [
    "Draw $N$ samples of independent and identically distributed (i.i.d.) variables, such as,\n",
    "\n",
    "$$\n",
    "\\mathbf{Y} \\sim \\mathcal{N}\\left( \\mathbf{0}, \\mathbf{1}\\right)\n",
    "$$ \n",
    "\n",
    "where\n",
    "\n",
    "$$\n",
    "\\mathop{\\mathbb{E}} \\{ \\mathbf{Y} \\} \\rightarrow \\mathbf{0} =\n",
    "\\begin{bmatrix}\n",
    "0\\\\\n",
    "0\\\\\n",
    "\\end{bmatrix}\n",
    "\\;\\;\\text{and}\\;\\;\n",
    "\\mathop{\\mathbb{E}} \\{ \\mathbf{Y} \\mathbf{Y}^T \\} \\rightarrow \\mathbf{1} =\n",
    "\\begin{bmatrix}\n",
    "1 & 0\\\\\n",
    "0 & 1\\\\\n",
    "\\end{bmatrix}\n",
    "$$\n"
   ]
  },
  {
   "cell_type": "code",
   "execution_count": null,
   "id": "4bfd8fe8",
   "metadata": {
    "execution": {
     "iopub.execute_input": "2024-09-26T11:06:10.273354Z",
     "iopub.status.busy": "2024-09-26T11:06:10.273354Z",
     "iopub.status.idle": "2024-09-26T11:06:10.291639Z",
     "shell.execute_reply": "2024-09-26T11:06:10.291639Z"
    }
   },
   "outputs": [],
   "source": [
    "np.random.seed(seed=1)\n",
    "nsmp = 5000\n",
    "dim = 2\n",
    "y = pd.DataFrame(np.random.randn(dim, nsmp), index=[\"A\", \"B\"])\n",
    "y.shape"
   ]
  },
  {
   "cell_type": "markdown",
   "id": "b1c48879",
   "metadata": {},
   "source": [
    "Small correlation between parameters that goes to zero as $N \\rightarrow \\infty$"
   ]
  },
  {
   "cell_type": "code",
   "execution_count": null,
   "id": "52fa30f6",
   "metadata": {
    "execution": {
     "iopub.execute_input": "2024-09-26T11:06:10.291639Z",
     "iopub.status.busy": "2024-09-26T11:06:10.291639Z",
     "iopub.status.idle": "2024-09-26T11:06:10.311397Z",
     "shell.execute_reply": "2024-09-26T11:06:10.311397Z"
    }
   },
   "outputs": [],
   "source": [
    "y.T.corr()"
   ]
  },
  {
   "cell_type": "code",
   "execution_count": null,
   "id": "9e8fb597",
   "metadata": {
    "execution": {
     "iopub.execute_input": "2024-09-26T11:06:10.311397Z",
     "iopub.status.busy": "2024-09-26T11:06:10.311397Z",
     "iopub.status.idle": "2024-09-26T11:06:15.244420Z",
     "shell.execute_reply": "2024-09-26T11:06:15.244420Z"
    }
   },
   "outputs": [],
   "source": [
    "g = sns.jointplot(data=y.T, x=\"A\", y=\"B\", kind=\"kde\")\n",
    "g.figure.set_dpi(100)\n",
    "g.figure.set_figwidth(5)\n",
    "g.figure.set_figheight(5)"
   ]
  },
  {
   "cell_type": "markdown",
   "id": "78a2aa09",
   "metadata": {},
   "source": [
    "## Introduce covariance term to i.i.d parameters"
   ]
  },
  {
   "cell_type": "markdown",
   "id": "962c2dec",
   "metadata": {},
   "source": [
    "Generate random 2x2 covariance matrix $\\mathbf{\\Sigma}$."
   ]
  },
  {
   "cell_type": "code",
   "execution_count": null,
   "id": "75d3c69f",
   "metadata": {
    "execution": {
     "iopub.execute_input": "2024-09-26T11:06:15.244420Z",
     "iopub.status.busy": "2024-09-26T11:06:15.244420Z",
     "iopub.status.idle": "2024-09-26T11:06:15.265856Z",
     "shell.execute_reply": "2024-09-26T11:06:15.265856Z"
    }
   },
   "outputs": [],
   "source": [
    "C = sandy.CategoryCov.random_cov(\n",
    "    dim,\n",
    "    stdmax=10,  # max stdev is 10%\n",
    "    seed=5,  # fix seed for reproducibility\n",
    ")\n",
    "C.data.index = C.data.columns = [\"A\", \"B\"]\n",
    "C.get_corr()"
   ]
  },
  {
   "cell_type": "code",
   "execution_count": null,
   "id": "7a1c7c5a",
   "metadata": {
    "execution": {
     "iopub.execute_input": "2024-09-26T11:06:15.265856Z",
     "iopub.status.busy": "2024-09-26T11:06:15.265856Z",
     "iopub.status.idle": "2024-09-26T11:06:15.283924Z",
     "shell.execute_reply": "2024-09-26T11:06:15.283924Z"
    }
   },
   "outputs": [],
   "source": [
    "# We assume standard deviations are relative (in %)\n",
    "C.get_std()"
   ]
  },
  {
   "cell_type": "markdown",
   "id": "a3e38b57",
   "metadata": {},
   "source": [
    "Application of covariance matrix to i.i.d. Normal samples."
   ]
  },
  {
   "cell_type": "markdown",
   "id": "dba033b5",
   "metadata": {},
   "source": [
    "$$\n",
    "\\mathbf{\\Sigma} = \\mathbf{L} \\mathbf{L^T}\n",
    "$$\n",
    "\n",
    "$$\n",
    "\\mathbf{Z} = \\mathbf{L} \\mathbf{Y} =\n",
    "\\begin{bmatrix}\n",
    "l_{1,1} & 0\\\\\n",
    "l_{2,1} & l_{2,2} \\\\\n",
    "\\end{bmatrix}\n",
    "\\begin{bmatrix}\n",
    "y_{1,1} & \\dots & y_{1,N} \\\\\n",
    "y_{2,1} & \\dots & y_{2,N}\\\\\n",
    "\\end{bmatrix} = \n",
    "\\begin{bmatrix}\n",
    "l_{1,1}y_{1,1} & l_{1,1}y_{1,2} & \\dots & l_{1,1}y_{1,N} \\\\\n",
    "l_{2,1}y_{1,1} + l_{2,2}y_{2,2} & l_{2,1}y_{1,2} + l_{2,2}y_{2,2} & \\dots & l_{2,1}y_{1,N} + l_{2,2}y_{2,N}\\\\\n",
    "\\end{bmatrix}\n",
    "$$\n",
    "\n",
    "with\n",
    "$$\n",
    "Z\\sim\\mathcal{N}\\left( \\mathbf{0}, \\mathbf{\\Sigma}\\right)\n",
    "$$"
   ]
  },
  {
   "cell_type": "markdown",
   "id": "68699240",
   "metadata": {},
   "source": [
    "Mean and covariance of generated samples $\\mathbf{Z}$:"
   ]
  },
  {
   "cell_type": "markdown",
   "id": "d924778b",
   "metadata": {},
   "source": [
    "$$\n",
    "\\mathop{\\mathbb{E}} \\{ \\mathbf{Z} \\} =\n",
    "\\mathop{\\mathbb{E}} \\{ \\mathbf{L} \\mathbf{Y} \\} =\n",
    "\\mathbf{L} \\mathop{\\mathbb{E}} \\{ \\mathbf{Y} \\} = \\mathbf{0}\n",
    "$$"
   ]
  },
  {
   "cell_type": "markdown",
   "id": "3855a4a1",
   "metadata": {},
   "source": [
    "$$\n",
    "\\mathop{\\mathbb{E}} \\{ \\mathbf{Z} \\mathbf{Z}^T \\} =\n",
    "\\mathop{\\mathbb{E}} \\{\\left( \\mathbf{L} \\mathbf{Y} \\right) \\left( \\mathbf{L} \\mathbf{Y} \\right)^T \\} =\n",
    "\\mathop{\\mathbb{E}} \\{ \\mathbf{L}^T \\mathbf{Y}^T \\mathbf{Y} \\mathbf{L} \\} =\n",
    "\\mathop{\\mathbb{E}} \\{ \\mathbf{L}^T \\mathbf{L} \\} =\n",
    "\\mathbf{\\Sigma}\n",
    "$$"
   ]
  },
  {
   "cell_type": "code",
   "execution_count": null,
   "id": "69b2367a",
   "metadata": {
    "execution": {
     "iopub.execute_input": "2024-09-26T11:06:15.283924Z",
     "iopub.status.busy": "2024-09-26T11:06:15.283924Z",
     "iopub.status.idle": "2024-09-26T11:06:15.306737Z",
     "shell.execute_reply": "2024-09-26T11:06:15.306737Z"
    }
   },
   "outputs": [],
   "source": [
    "samples = C.sampling(nsmp).data.T\n",
    "samples.shape"
   ]
  },
  {
   "cell_type": "code",
   "execution_count": null,
   "id": "47d30259",
   "metadata": {
    "execution": {
     "iopub.execute_input": "2024-09-26T11:06:15.306737Z",
     "iopub.status.busy": "2024-09-26T11:06:15.306737Z",
     "iopub.status.idle": "2024-09-26T11:06:31.132325Z",
     "shell.execute_reply": "2024-09-26T11:06:31.132325Z"
    }
   },
   "outputs": [],
   "source": [
    "g = sns.jointplot(data=samples, x=\"A\", y=\"B\", kind=\"kde\")\n",
    "g.figure.set_dpi(100)\n",
    "g.figure.set_figwidth(5)\n",
    "g.figure.set_figheight(5)"
   ]
  },
  {
   "cell_type": "code",
   "execution_count": null,
   "id": "68d2f333",
   "metadata": {
    "execution": {
     "iopub.execute_input": "2024-09-26T11:06:31.134831Z",
     "iopub.status.busy": "2024-09-26T11:06:31.134831Z",
     "iopub.status.idle": "2024-09-26T11:06:31.147990Z",
     "shell.execute_reply": "2024-09-26T11:06:31.147990Z"
    }
   },
   "outputs": [],
   "source": [
    "samples.corr()"
   ]
  },
  {
   "cell_type": "code",
   "execution_count": null,
   "id": "17f927cb",
   "metadata": {
    "execution": {
     "iopub.execute_input": "2024-09-26T11:06:31.147990Z",
     "iopub.status.busy": "2024-09-26T11:06:31.147990Z",
     "iopub.status.idle": "2024-09-26T11:06:31.162600Z",
     "shell.execute_reply": "2024-09-26T11:06:31.162600Z"
    }
   },
   "outputs": [],
   "source": [
    "samples.std()"
   ]
  }
 ],
 "metadata": {
  "kernelspec": {
   "display_name": "Python [conda env:sandy-v1.0] *",
   "language": "python",
   "name": "conda-env-sandy-v1.0-py"
  },
  "language_info": {
   "codemirror_mode": {
    "name": "ipython",
    "version": 3
   },
   "file_extension": ".py",
   "mimetype": "text/x-python",
   "name": "python",
   "nbconvert_exporter": "python",
   "pygments_lexer": "ipython3",
   "version": "3.12.3"
  }
 },
 "nbformat": 4,
 "nbformat_minor": 5
}
